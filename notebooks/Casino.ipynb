{
 "cells": [
  {
   "cell_type": "code",
   "execution_count": 1,
   "metadata": {
    "collapsed": true
   },
   "outputs": [],
   "source": [
    "%matplotlib inline\n",
    "import matplotlib.pyplot as plt\n",
    "import numpy as np\n",
    "import scipy as sp\n",
    "import nuSQUIDSpy as nsq\n",
    "import pickle\n",
    "\n",
    "plt.style.use('./paper.mplstyle')"
   ]
  },
  {
   "cell_type": "code",
   "execution_count": 2,
   "metadata": {
    "collapsed": true
   },
   "outputs": [],
   "source": [
    "units = nsq.Const()\n",
    "gr = nsq.GlashowResonanceCrossSection()\n",
    "dis = nsq.NeutrinoDISCrossSectionsFromTables()\n",
    "tds = nsq.TauDecaySpectra()"
   ]
  },
  {
   "cell_type": "code",
   "execution_count": 3,
   "metadata": {
    "collapsed": true
   },
   "outputs": [],
   "source": [
    "File = open('taus_rock_ALLM97_lpm_vcut1e-3_MMC_Ordered_weighted.pickle','r')\n",
    "tau_loss_array = pickle.load(File)\n",
    "\n",
    "def find_nearest(array, value):\n",
    "    array = np.asarray(array)\n",
    "    idx = (np.abs(array - value)).argmin()\n",
    "    return array[idx]\n",
    "\n",
    "def SampleFinalTauParams(e_in):\n",
    "    if (e_in < 1e6):\n",
    "        return(e_in, 1e-4)\n",
    "    else:\n",
    "        eins = np.logspace(6,16,500)\n",
    "        e_in = find_nearest(eins, e_in)\n",
    "        choices = tau_loss_array[e_in]['choices']\n",
    "        weights = tau_loss_array[e_in]['weights']\n",
    "        choice_index = np.arange(0, len(choices))\n",
    "\n",
    "        index = np.random.choice(choice_index, p=weights)\n",
    "        (e_final, distance) = choices[index]\n",
    "\n",
    "        return(10**e_final, 10**distance)"
   ]
  },
  {
   "cell_type": "code",
   "execution_count": 468,
   "metadata": {
    "collapsed": true
   },
   "outputs": [],
   "source": [
    "def TotalNeutrinoCrossSection(enu, \n",
    "                              flavor = nsq.NeutrinoCrossSections_NeutrinoFlavor.electron,\n",
    "                              neutype = nsq.NeutrinoCrossSections_NeutrinoType.neutrino,\n",
    "                              interaction = nsq.NeutrinoCrossSections_Current.NC):\n",
    "    return dis.TotalCrossSection(enu,flavor,neutype,interaction)*(units.cm)**2\n",
    "\n",
    "def DifferentialOutGoingLeptonDistribution(enu_in,enu_out,\n",
    "                                       flavor = nsq.NeutrinoCrossSections_NeutrinoFlavor.tau,\n",
    "                                       neutype = nsq.NeutrinoCrossSections_NeutrinoType.neutrino,\n",
    "                                       interaction = nsq.NeutrinoCrossSections_Current.NC\n",
    "                                    ):\n",
    "    diff = dis.SingleDifferentialCrossSection(enu_in,enu_out,flavor,neutype,interaction)\n",
    "    return diff"
   ]
  },
  {
   "cell_type": "code",
   "execution_count": 469,
   "metadata": {
    "collapsed": true
   },
   "outputs": [],
   "source": [
    "Etau = 100.\n",
    "zz = np.linspace(0.0,1.0,500)[1:-1]\n",
    "dNTaudz = lambda z: tds.TauDecayToAll(Etau, Etau*z)\n",
    "TauDecayWeights = np.array(map(dNTaudz,zz))\n",
    "TauDecayWeights = TauDecayWeights/np.sum(TauDecayWeights)\n",
    "\n",
    "yy = np.linspace(0.0,1.0,300)[1:-1]\n",
    "\n",
    "proton_mass = 0.938*units.GeV"
   ]
  },
  {
   "cell_type": "code",
   "execution_count": 470,
   "metadata": {
    "collapsed": true
   },
   "outputs": [],
   "source": [
    "class CasinoEvent(object):\n",
    "    def __init__(self, particle_id, energy, position):\n",
    "        ## need to add tree in an efficient way\n",
    "\n",
    "        self.particle_id = particle_id\n",
    "        self.energy = energy\n",
    "        self.position = position\n",
    "        self.SetParticleProperties()\n",
    "        self.history = [\"Event created as \" + particle_id]\n",
    "        \n",
    "    def SetParticleProperties(self):\n",
    "        if self.particle_id == \"tau_neutrino\":\n",
    "            self.mass = 0.0\n",
    "            self.lifetime = np.inf\n",
    "        if self.particle_id == \"tau\":\n",
    "            self.mass = 1.7*units.GeV\n",
    "            self.lifetime = 1.*units.sec\n",
    "            \n",
    "    def GetParticleId(self):\n",
    "        return self.particle_id\n",
    "    \n",
    "    def GetLifetime(self):\n",
    "        return self.lifetime\n",
    "    \n",
    "    def GetMass(self):\n",
    "        return self.mass\n",
    "    \n",
    "    def GetBoostFactor(self):\n",
    "        if self.mass > 0.:\n",
    "            return self.energy/self.mass\n",
    "        else:\n",
    "            return np.inf\n",
    "            \n",
    "    def GetDecayProbability(self,dL):\n",
    "        boost_factor = self.GetBoostFactor()\n",
    "        return dL/(boost_factor*self.lifetime)\n",
    "    \n",
    "    def GetInteractionLength(self,density,interaction):\n",
    "        if self.particle_id == \"tau_neutrino\":\n",
    "            # this should be actually divided by average of proton and neutron mass\n",
    "            #print TotalNeutrinoCrossSection(self.energy, interaction = interaction), self.energy, interaction\n",
    "            return proton_mass/(TotalNeutrinoCrossSection(self.energy, interaction = interaction)*density)\n",
    "        if self.particle_id == \"tau\":\n",
    "            # here we need the total tau cross section\n",
    "            #return TotalNeutrinoCrossSection(self.energy)*density/(proton_mass)\n",
    "            return 0.01*units.cm\n",
    "    \n",
    "    def GetInteractionProbability(self,dL,density,interaction):\n",
    "        return 1.-np.exp(-dL/self.GetInteractionLength(density,interaction))\n",
    "    \n",
    "    def DecayParticle(self):\n",
    "        if self.particle_id == \"tau_neutrino\":\n",
    "            self.history.append(\"Neutrino decayed???\")\n",
    "            return\n",
    "        if self.particle_id == \"tau\":\n",
    "            self.energy = self.energy*np.random.choice(zz, p=TauDecayWeights)\n",
    "            self.particle_id = \"tau_neutrino\"\n",
    "            self.SetParticleProperties()\n",
    "            self.history.append(\"Tau decayed\")\n",
    "            return\n",
    "            \n",
    "    def InteractParticle(self, interaction):\n",
    "        if self.particle_id == \"tau_neutrino\":\n",
    "\n",
    "            dNdEle = lambda y: DifferentialOutGoingLeptonDistribution(self.energy,self.energy*y,\n",
    "                                                                      interaction = interaction)\n",
    "            NeutrinoInteractionWeights = map(dNdEle,yy)\n",
    "            NeutrinoInteractionWeights = NeutrinoInteractionWeights/np.sum(NeutrinoInteractionWeights)\n",
    "            self.energy = self.energy*np.random.choice(yy, p=NeutrinoInteractionWeights)\n",
    "            \n",
    "            if interaction == nsq.NeutrinoCrossSections_Current.CC:\n",
    "                self.particle_id = \"tau\"\n",
    "                self.SetParticleProperties()\n",
    "            elif interaction == nsq.NeutrinoCrossSections_Current.NC:\n",
    "                self.particle_id = \"tau_neutrino\"\n",
    "                self.SetParticleProperties()\n",
    "            \n",
    "            self.history.append(\"Neutrino Interacted\")\n",
    "            return\n",
    "        if self.particle_id == \"tau\":\n",
    "            Efin, Ladv = SampleFinalTauParams(self.energy/units.GeV)\n",
    "            self.energy = Efin*units.GeV\n",
    "            self.position += Ladv*units.km\n",
    "            self.history.append(\"Tau Interacted\")\n",
    "            self.DecayParticle()\n",
    "            return\n",
    "        \n",
    "    def PrintParticleProperties(self):\n",
    "        print \"id\", self.particle_id, \\\n",
    "              \"energy \", self.energy/units.GeV, \" GeV\", \\\n",
    "              \"position \", self.position/units.km, \" km\""
   ]
  },
  {
   "cell_type": "code",
   "execution_count": 471,
   "metadata": {
    "collapsed": true
   },
   "outputs": [],
   "source": [
    "def RollDice(initial_neutrino_energy,\n",
    "             TotalDistance = 12000.*units.km,\n",
    "             ProposedDistanceStep = 100.*units.km,\n",
    "             density = 1.*units.gr/(units.cm**3)):\n",
    "    FirstEvent = CasinoEvent(\"tau_neutrino\",initial_neutrino_energy,0.0)\n",
    "    EventCollection = [FirstEvent]\n",
    "\n",
    "    while(not np.any(map(lambda e: (e.position > TotalDistance) or (e.energy < e.GetMass()), EventCollection))):\n",
    "        for event in EventCollection:\n",
    "            p = np.random.random_sample()\n",
    "            if event.GetDecayProbability(ProposedDistanceStep) > p:\n",
    "                event.DecayParticle()\n",
    "                continue\n",
    "\n",
    "            p = np.random.random_sample()\n",
    "            p_int = event.GetInteractionProbability(ProposedDistanceStep,density,\n",
    "                                                    interaction = nsq.NeutrinoCrossSections_Current.CC)\n",
    "            if p_int > 1:\n",
    "                print \"pick smaller step\"\n",
    "            if p_int > p:\n",
    "                event.InteractParticle(nsq.NeutrinoCrossSections_Current.CC)\n",
    "                continue\n",
    "                \n",
    "            p = np.random.random_sample()\n",
    "            p_int = event.GetInteractionProbability(ProposedDistanceStep,density, \n",
    "                                                    interaction = nsq.NeutrinoCrossSections_Current.NC)\n",
    "            if p_int > 1:\n",
    "                print \"pick smaller step\"\n",
    "            if p_int > p:\n",
    "                event.InteractParticle(nsq.NeutrinoCrossSections_Current.NC)\n",
    "                continue\n",
    "                \n",
    "        # move everything forward\n",
    "        for event in EventCollection:\n",
    "            event.position += ProposedDistanceStep\n",
    "    return EventCollection"
   ]
  },
  {
   "cell_type": "code",
   "execution_count": 472,
   "metadata": {
    "collapsed": true
   },
   "outputs": [],
   "source": [
    "eini = 1.e9*units.GeV\n",
    "HardCasinoGame = np.array([RollDice(eini)[0] for i in xrange(1000)])\n",
    "\n",
    "eini = 2.e6*units.GeV\n",
    "EasyCasinoGame = np.array([RollDice(eini)[0] for i in xrange(1000)])"
   ]
  },
  {
   "cell_type": "code",
   "execution_count": 474,
   "metadata": {},
   "outputs": [
    {
     "data": {
      "text/plain": [
       "Text(0.5,0,u'$\\\\log(E_\\\\nu / {\\\\rm GeV})$')"
      ]
     },
     "execution_count": 474,
     "metadata": {},
     "output_type": "execute_result"
    },
    {
     "data": {
      "image/png": "[encoded data removed]",
      "text/plain": [
       "<matplotlib.figure.Figure at 0x11923cc10>"
      ]
     },
     "metadata": {},
     "output_type": "display_data"
    }
   ],
   "source": [
    "plt.figure(figsize=(7,6))\n",
    "plt.axvline(np.log10(1.e9), ls = \"dashed\", color = \"k\")\n",
    "plt.hist(map(lambda x : np.log10(x.energy/units.GeV), EasyCasinoGame),\n",
    "         label = \"easy\", histtype=\"step\", cumulative = -1)\n",
    "plt.axvline(np.log10(2.e6), ls = \"dashed\", color = \"k\")\n",
    "plt.hist(map(lambda x : np.log10(x.energy/units.GeV), HardCasinoGame),\n",
    "         label = \"hard\", histtype=\"step\", cumulative = -1)\n",
    "plt.semilogy()\n",
    "plt.legend(loc = \"best\")\n",
    "plt.xlabel(r\"$\\log(E_\\nu / {\\rm GeV})$\")"
   ]
  },
  {
   "cell_type": "code",
   "execution_count": 475,
   "metadata": {},
   "outputs": [
    {
     "data": {
      "text/plain": [
       "['Event created as tau_neutrino']"
      ]
     },
     "execution_count": 475,
     "metadata": {},
     "output_type": "execute_result"
    }
   ],
   "source": [
    "EasyCasinoGame[0].history"
   ]
  },
  {
   "cell_type": "code",
   "execution_count": null,
   "metadata": {
    "collapsed": true
   },
   "outputs": [],
   "source": []
  }
 ],
 "metadata": {
  "kernelspec": {
   "display_name": "Python 2",
   "language": "python",
   "name": "python2"
  },
  "language_info": {
   "codemirror_mode": {
    "name": "ipython",
    "version": 2
   },
   "file_extension": ".py",
   "mimetype": "text/x-python",
   "name": "python",
   "nbconvert_exporter": "python",
   "pygments_lexer": "ipython2",
   "version": "2.7.14"
  }
 },
 "nbformat": 4,
 "nbformat_minor": 2
}
