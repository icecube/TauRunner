{
 "cells": [
  {
   "cell_type": "markdown",
   "metadata": {},
   "source": [
    "## TauRunner\n",
    "\n",
    "Welcome to the TauRunner tutorial! This software is capable of simulating neutrinos (and anti-neutrinos) of all flavors, accounting for tau regeneration and losses in the nutau channel. The output is a set of particle energies, number of interactions, angle, and particle type.\n",
    "\n",
    "The user has the option to propagate:\n",
    "1. monochromatic fluxes\n",
    "2. power-law fluxes\n",
    "3. Any provided arbitrary flux by means of sampling from a cdf. \n",
    "\n",
    "All of these can be propagated through either:\n",
    "1. a fixed angle\n",
    "2. a range of angles\n",
    "3. uniformly sampled angles in the sky. \n",
    "\n",
    "In terms of astrophysical bodies, we provide implementations for the Earth and Sun with capabilities of adding additional layers and changing the detector depth. In addition, we will demonstrate how to define any astrophysical object, or a slab of constant density to propagate through. All of these capabilities will be shown in the following examples. Happy running!"
   ]
  },
  {
   "cell_type": "code",
   "execution_count": 6,
   "metadata": {},
   "outputs": [],
   "source": [
    "from taurunner.main import run_MC\n",
    "from taurunner.cross_sections import CrossSections\n",
    "from taurunner.body import Body\n",
    "#earth creator function lumen_sit()\n",
    "from taurunner.body.earth import lumen_sit\n",
    "\n",
    "from taurunner.utils import make_initial_e\n",
    "from taurunner.utils import make_initial_thetas\n",
    "from taurunner.utils import make_propagator\n",
    "from taurunner.utils.make_tracks import make_tracks\n",
    "\n",
    "import proposal as pp\n",
    "import numpy as np"
   ]
  },
  {
   "cell_type": "markdown",
   "metadata": {},
   "source": [
    "## Example 1: Monochromatic flux through single angle in Earth ##"
   ]
  },
  {
   "cell_type": "code",
   "execution_count": 14,
   "metadata": {
    "scrolled": false
   },
   "outputs": [],
   "source": [
    "nevents = 10000                    #number of events to simulate\n",
    "eini    = 1e19                     #intial energy in eV\n",
    "theta   = np.radians(89.0)         #initial incidence angle (nadir) in radians\n",
    "pid = 16                           #particle id according to the PDG MC Encoding (nutau)\n",
    "xs_model = 'CSMS'                  #neutrino cross section and \n",
    "                                   #corresponding tau loss model choice\n",
    "\n",
    "TR_specs = {                       #TR_specs contains a summary of params\n",
    "    'energy': eini,\n",
    "    'theta': theta,\n",
    "    'flavor': pid,\n",
    "    'no_secondaries': False,\n",
    "    'nevents': nevents,\n",
    "    'seed': 7,\n",
    "    'xs_model': xs_model,\n",
    "    'no_losses': False,\n",
    "    'track': 'chord',\n",
    "    'depth': 0.0,\n",
    "    }\n",
    "\n",
    "Earth = lumen_sit(layers=[(4, 1.0)])      #Make Earth object with 4km ice layer\n",
    "xs    = CrossSections(xs_model)    #Make cross section object\n",
    "energies = np.ones(nevents)*eini\n",
    "thetas   = np.ones(nevents)*theta\n",
    "\n",
    "tracks = make_tracks(TR_specs, thetas, Earth.radius)\n",
    "tau_prop = make_propagator(pid, Earth)\n",
    "rand = np.random.RandomState(seed=7)\n",
    "\n",
    "output = run_MC(energies, thetas, Earth, xs, tracks, TR_specs, tau_prop, rand)"
   ]
  },
  {
   "cell_type": "code",
   "execution_count": 15,
   "metadata": {},
   "outputs": [
    {
     "data": {
      "image/png": "[encoded data removed]",
      "text/plain": [
       "<Figure size 432x288 with 1 Axes>"
      ]
     },
     "metadata": {
      "needs_background": "light"
     },
     "output_type": "display_data"
    }
   ],
   "source": [
    "import matplotlib.pyplot as plt\n",
    "\n",
    "bins  = np.linspace(12, 19, 75)\n",
    "zeros = output['Eout']==0.\n",
    "nutau_mask = np.logical_and(output['PDG_Encoding']==16, ~zeros)\n",
    "tau_mask  = np.logical_and(np.abs(output['PDG_Encoding'])==15, ~zeros)\n",
    "et_al = np.logical_and(~zeros, np.logical_and(~nutau_mask, ~tau_mask))\n",
    "\n",
    "hn = plt.hist(np.log10(output['Eout'][nutau_mask]), bins=bins, label='nutau')\n",
    "ht = plt.hist(np.log10(output['Eout'][tau_mask]), bins=bins, label='tau')\n",
    "ho = plt.hist(np.log10(output['Eout'][et_al]), bins=bins, label='et al')\n",
    "plt.legend()\n",
    "plt.semilogy()\n",
    "plt.show()"
   ]
  },
  {
   "cell_type": "code",
   "execution_count": 17,
   "metadata": {},
   "outputs": [
    {
     "data": {
      "text/plain": [
       "[]"
      ]
     },
     "execution_count": 17,
     "metadata": {},
     "output_type": "execute_result"
    },
    {
     "data": {
      "image/png": "[encoded data removed]",
      "text/plain": [
       "<Figure size 432x288 with 1 Axes>"
      ]
     },
     "metadata": {
      "needs_background": "light"
     },
     "output_type": "display_data"
    }
   ],
   "source": [
    "plt.step(hn[1][:-1], hn[0], where='pre')\n",
    "plt.step(ht[1][:-1], ht[0], where='pre')\n",
    "plt.step(ho[1][:-1], ho[0], where='pre')\n",
    "plt.semilogy()\n"
   ]
  },
  {
   "cell_type": "code",
   "execution_count": null,
   "metadata": {},
   "outputs": [],
   "source": [
    "# set up neutrino MC\n",
    "n_events = 1000\n",
    "en = 1e10\n",
    "theta = 0.0\n",
    "seed = 2\n",
    "xs_model = 'dipole'\n",
    "\n",
    "TR_specs = {\n",
    "    'energy': en,\n",
    "    'theta': theta,\n",
    "    'flavor': 15,\n",
    "    'no_secondaries': True,\n",
    "    'nevents': num_sim,\n",
    "    'seed': seed,\n",
    "    'xs_model': xs_model,\n",
    "    'no_losses': False\n",
    "    }\n",
    "\n",
    "rand = np.random.RandomState(TR_specs['seed'])\n",
    "TR_specs['rand'] = rand\n",
    "\n",
    "eini = make_initial_e(TR_specs, rand=rand)\n",
    "thetas = make_initial_thetas(TR_specs, rand=rand)\n",
    "track  = Chord(theta=theta, depth=0.)\n",
    "#make cross section object\n",
    "xs = CrossSections(TR_specs['xs_model'])\n",
    "\n",
    "#propagate taus in water\n",
    "atmosphere = Body(1.0, 1e9)\n",
    "#bod        = lumen_sit()\n",
    "prop = make_propagator(16, atmosphere)\n",
    "proposal_lep           = pp.particle.DynamicData(pp.particle.TauMinusDef().particle_type)\n",
    "proposal_lep.position  = pp.Vector3D(0, 0, 0)\n",
    "proposal_lep.direction = pp.Vector3D(0, 0, 1)\n",
    "\n",
    "tau_out = []\n",
    "for ein in eini:\n",
    "    this_tau = particle.Particle(15, ein, 0., 0., 0, xs, prop, False, False)\n",
    "    this_tau.PropagateChargedLepton(atmosphere, track)\n",
    "    #energy at decay in eV, distance to decay in km\n",
    "    tau_out.append([this_tau.energy, this_tau.chargedposition])"
   ]
  },
  {
   "cell_type": "code",
   "execution_count": null,
   "metadata": {},
   "outputs": [],
   "source": []
  }
 ],
 "metadata": {
  "kernelspec": {
   "display_name": "Python 3",
   "language": "python",
   "name": "python3"
  },
  "language_info": {
   "codemirror_mode": {
    "name": "ipython",
    "version": 3
   },
   "file_extension": ".py",
   "mimetype": "text/x-python",
   "name": "python",
   "nbconvert_exporter": "python",
   "pygments_lexer": "ipython3",
   "version": "3.7.5"
  }
 },
 "nbformat": 4,
 "nbformat_minor": 2
}
