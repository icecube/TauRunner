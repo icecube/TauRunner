{
 "cells": [
  {
   "cell_type": "markdown",
   "metadata": {},
   "source": [
    "## TauRunner\n",
    "\n",
    "Welcome to the TauRunner tutorial! This software is capable of simulating neutrinos (and anti-neutrinos) of all flavors, accounting for tau regeneration and losses in the nutau channel. The output is a set of particle energies, number of interactions, angle, and particle type.\n",
    "\n",
    "The user has the option to propagate:\n",
    "1. monochromatic fluxes\n",
    "2. power-law fluxes\n",
    "3. Any provided arbitrary flux by means of sampling from a cdf. \n",
    "\n",
    "All of these can be propagated through either:\n",
    "1. a fixed angle\n",
    "2. a range of angles\n",
    "3. uniformly sampled angles in the sky. \n",
    "\n",
    "In terms of astrophysical bodies, we provide implementations for the Earth and Sun with capabilities of adding additional layers and changing the detector depth. In addition, we will demonstrate how to define any astrophysical object, or a slab of constant density to propagate through. All of these capabilities will be shown in the following examples. Happy running!"
   ]
  },
  {
   "cell_type": "code",
   "execution_count": 1,
   "metadata": {},
   "outputs": [],
   "source": [
    "from taurunner.main import run_MC\n",
    "from taurunner.cross_sections import CrossSections\n",
    "from taurunner.body import Body\n",
    "from taurunner.body.earth import construct_earth\n",
    "\n",
    "from taurunner.utils import make_initial_e\n",
    "from taurunner.utils import make_initial_thetas\n",
    "from taurunner.utils import make_propagator\n",
    "from taurunner.utils.make_tracks import make_tracks\n",
    "\n",
    "import proposal as pp\n",
    "import numpy as np"
   ]
  },
  {
   "cell_type": "markdown",
   "metadata": {},
   "source": [
    "## Example 1: Monochromatic flux through single angle in Earth ##\n",
    "\n",
    "The main function that runs the monte carlo is called `run_MC` and required a few arguments, which we show you how to create below\n",
    "* `energies`: An array of initial particle energies in eV\n",
    "* `thetas`: A corresponding array of initial nadir angles in radians\n",
    "* `body`: The body which we are propagating through (Earth, Sun, custom, etc.)\n",
    "* `xs`: a CrossSections object which is based on a certain cross section model\n",
    "* `tracks`: dictionary whose keys are angles and whose values are taurunner Track objects\n",
    "* `propagator`: PROPOSAL propagator object for charged lepton propagation"
   ]
  },
  {
   "cell_type": "code",
   "execution_count": 2,
   "metadata": {},
   "outputs": [],
   "source": [
    "nevents  = 10000                    # number of events to simulate\n",
    "eini     = 1e19                     # intial energy in eV\n",
    "theta    = np.radians(89.0)         # initial incidence angle (nadir) in radians\n",
    "pid      = 16                       # particle id according to the PDG MC Encoding (nutau)\n",
    "xs_model = 'CSMS'                   # neutrino cross section and tau loss model (CSMS or dipole)\n",
    "                                   \n",
    "\n",
    "Earth    = lumen_sit(layers=[(4., 1.0)])       # Make Earth object with 4km ice layer\n",
    "xs       = CrossSections(xs_model)           # Make cross section object\n",
    "energies = np.ones(nevents)*eini             # Make array of energies\n",
    "thetas   = np.ones(nevents)*theta            # Make array of nadir angles in radians\n",
    "\n",
    "tracks = make_tracks(thetas)\n",
    "tau_prop = make_propagator(pid, Earth)\n",
    "rand = np.random.RandomState(seed=7)"
   ]
  },
  {
   "cell_type": "code",
   "execution_count": 3,
   "metadata": {
    "scrolled": false
   },
   "outputs": [],
   "source": [
    "output = run_MC(energies, thetas, Earth, xs, tracks, tau_prop, rand)"
   ]
  },
  {
   "cell_type": "code",
   "execution_count": 4,
   "metadata": {},
   "outputs": [
    {
     "data": {
      "image/png": "[encoded data removed]",
      "text/plain": [
       "<Figure size 432x288 with 1 Axes>"
      ]
     },
     "metadata": {
      "needs_background": "light"
     },
     "output_type": "display_data"
    }
   ],
   "source": [
    "import matplotlib.pyplot as plt\n",
    "\n",
    "pid_names = {\n",
    "    11: 'r$e$', \n",
    "    12: r'$\\nu_{e}$', \n",
    "    13: r'$\\mu$', \n",
    "    14: r'$\\nu_{\\mu}$',\n",
    "    15: r'$\\tau$',\n",
    "    16: r'$\\nu_{\\tau}$'\n",
    "}\n",
    "\n",
    "bins  = np.logspace(12, 19, 75)\n",
    "zeros = output['Eout']==0.\n",
    "\n",
    "for pid in reversed(range(12,17)):\n",
    "    particle_msk = np.logical_and(np.abs(output['PDG_Encoding'])==pid, ~zeros)\n",
    "    name = pid_names[pid]\n",
    "    plt.hist(output['Eout'][particle_msk], bins=bins, label=name,\n",
    "            lw=2., histtype='step')\n",
    "    \n",
    "plt.legend(frameon=False, loc=2)\n",
    "plt.loglog()\n",
    "plt.xlabel(r'$E$ (eV)')\n",
    "plt.ylabel('Number')\n",
    "plt.show()"
   ]
  },
  {
   "cell_type": "markdown",
   "metadata": {},
   "source": [
    "## Example 2: Alternative spectral shapes over various angles\n",
    "\n",
    "`taurunner` also provides helper functions to propagate other spectral shapes, such as power laws or pre-loaded models of cosmogenic neutrinos"
   ]
  },
  {
   "cell_type": "code",
   "execution_count": 5,
   "metadata": {},
   "outputs": [],
   "source": [
    "nevents = 5000\n",
    "energies = make_initial_e(nevents, -2., e_min=1e6, e_max=1e12, rand=rand) # spectral index -2. between 1e6 and 1e12 GeV\n",
    "thetas   = make_initial_thetas(nevents, (0., 90.), rand=rand) # Sample uniform in solid angle over hemisphere\n",
    "tracks   = make_tracks(thetas)"
   ]
  },
  {
   "cell_type": "markdown",
   "metadata": {},
   "source": [
    "Here, we are choosing to propagate an $E^{-2}$ spectrum over an entire hemisphere. \n",
    "There are some additional keyword arguments that allow the user to turn off tau energy losses (which are less important for more steeply inclined angles) or ignore secondary particles"
   ]
  },
  {
   "cell_type": "code",
   "execution_count": 6,
   "metadata": {},
   "outputs": [],
   "source": [
    "output = run_MC(energies, thetas, Earth, xs, tracks, tau_prop, rand, no_losses=True, no_secondaries=True)"
   ]
  },
  {
   "cell_type": "code",
   "execution_count": 7,
   "metadata": {},
   "outputs": [
    {
     "data": {
      "image/png": "[encoded data removed]",
      "text/plain": [
       "<Figure size 432x288 with 1 Axes>"
      ]
     },
     "metadata": {
      "needs_background": "light"
     },
     "output_type": "display_data"
    }
   ],
   "source": [
    "from matplotlib.colors import LogNorm\n",
    "\n",
    "bins  = np.logspace(12, 19, 75)\n",
    "zeros = output['Eout']==0.\n",
    "nutau_msk = np.logical_and(np.abs(output['PDG_Encoding'])==16, ~zeros)\n",
    "plt.hist2d(\n",
    "    output['Eini'][nutau_msk], \n",
    "    np.cos(np.radians(output['Theta'][nutau_msk])), \n",
    "    bins=[np.logspace(12., 17., 21), \n",
    "          np.linspace(0., 1., 21)],\n",
    "    norm=LogNorm()\n",
    ")\n",
    "\n",
    "plt.xscale('log')\n",
    "plt.xlabel(r'$E_{\\rm{initial}}$ (GeV)')\n",
    "plt.ylabel(r'$\\cos(\\theta)$')\n",
    "plt.title(\"Initial Energy Distribution\")\n",
    "plt.show()"
   ]
  },
  {
   "cell_type": "code",
   "execution_count": 8,
   "metadata": {},
   "outputs": [
    {
     "data": {
      "image/png": "[encoded data removed]",
      "text/plain": [
       "<Figure size 432x288 with 1 Axes>"
      ]
     },
     "metadata": {
      "needs_background": "light"
     },
     "output_type": "display_data"
    }
   ],
   "source": [
    "from matplotlib.colors import LogNorm\n",
    "\n",
    "bins  = np.logspace(12, 19, 75)\n",
    "zeros = output['Eout']==0.\n",
    "nutau_msk = np.logical_and(np.abs(output['PDG_Encoding'])==16, ~zeros)\n",
    "plt.hist2d(\n",
    "    output['Eout'][nutau_msk], \n",
    "    np.cos(np.radians(output['Theta'][nutau_msk])), \n",
    "    bins=[np.logspace(12., 17., 21), \n",
    "          np.linspace(0., 1., 21)],\n",
    "    norm=LogNorm()\n",
    ")\n",
    "\n",
    "plt.xscale('log')\n",
    "plt.xlabel(r'$E_{\\rm{final}}$ (GeV)')\n",
    "plt.ylabel(r'$\\cos(\\theta)$')\n",
    "plt.title(\"Final Energy Distribution\")\n",
    "plt.show()"
   ]
  },
  {
   "cell_type": "markdown",
   "metadata": {},
   "source": [
    "Here, it is evident that the neutrinos that were propagated through more Earth (larger $\\cos(\\theta)$) exit the Earth at much lower energies than the neutrinos that were able to pass through skimming trajectories undergoing few, if any, interactions\n",
    "\n",
    "We can also look at the one-dimensional energy spectra"
   ]
  },
  {
   "cell_type": "code",
   "execution_count": 9,
   "metadata": {},
   "outputs": [
    {
     "data": {
      "image/png": "[encoded data removed]",
      "text/plain": [
       "<Figure size 432x288 with 1 Axes>"
      ]
     },
     "metadata": {
      "needs_background": "light"
     },
     "output_type": "display_data"
    }
   ],
   "source": [
    "zeros = output['Eout']==0.\n",
    "\n",
    "for pid in reversed(range(12,17)):\n",
    "    particle_msk = np.logical_and(np.abs(output['PDG_Encoding'])==pid, ~zeros)\n",
    "    name = pid_names[pid]\n",
    "    plt.hist(output['Eout'][particle_msk], bins=bins, label=name,\n",
    "            lw=2., histtype='step')\n",
    "    \n",
    "plt.legend(frameon=False, loc=2)\n",
    "plt.loglog()\n",
    "plt.xlabel(r'$E$ (eV)')\n",
    "plt.ylabel('Number')\n",
    "plt.show()"
   ]
  },
  {
   "cell_type": "markdown",
   "metadata": {},
   "source": [
    "Notice how there are only tau neutrinos because we chose to not propagate any secondary particles. "
   ]
  },
  {
   "cell_type": "markdown",
   "metadata": {},
   "source": [
    "## Example 3: Propagating through other bodies\n",
    "\n",
    "In addition to propagating neutrinos through the Earth, you can also propagate neutrinos through the Sun or through any object given a density profile"
   ]
  },
  {
   "cell_type": "code",
   "execution_count": 11,
   "metadata": {},
   "outputs": [],
   "source": [
    "from taurunner.body import LZ_Sun\n",
    "from taurunner.body import Body"
   ]
  },
  {
   "cell_type": "markdown",
   "metadata": {},
   "source": [
    "### First, through a generic `body`"
   ]
  },
  {
   "cell_type": "code",
   "execution_count": 12,
   "metadata": {},
   "outputs": [],
   "source": [
    "nevents  = 10000                    # number of events to simulate\n",
    "eini     = 1e15                     # intial energy in eV\n",
    "theta    = 0.                       # initial incidence angle (nadir) in radians\n",
    "pid      = 16                       # particle id according to the PDG MC Encoding (nutau)\n",
    "xs_model = 'dipole'                   # neutrino cross section and tau loss model (CSMS or dipole)\n",
    "                                   \n",
    "xs       = CrossSections(xs_model)           # Make cross section object\n",
    "energies = np.ones(nevents)*eini             # Make array of energies\n",
    "thetas   = np.ones(nevents)*theta            # Make array of nadir angles in radians\n",
    "\n",
    "body = Body(1.0, 1e3) # Propagate through a body with a density of 1 and radius of 1e3 km\n",
    "tracks = make_tracks(thetas)\n",
    "tau_prop = make_propagator(pid, body)\n",
    "rand = np.random.RandomState(seed=7)"
   ]
  },
  {
   "cell_type": "code",
   "execution_count": 37,
   "metadata": {},
   "outputs": [],
   "source": [
    "output = run_MC(energies, thetas, body, xs, tracks, tau_prop, rand)"
   ]
  },
  {
   "cell_type": "code",
   "execution_count": 39,
   "metadata": {},
   "outputs": [
    {
     "data": {
      "image/png": "[encoded data removed]",
      "text/plain": [
       "<Figure size 432x288 with 1 Axes>"
      ]
     },
     "metadata": {
      "needs_background": "light"
     },
     "output_type": "display_data"
    }
   ],
   "source": [
    "bins  = np.logspace(12, 15.5, 26)\n",
    "zeros = output['Eout']==0.\n",
    "\n",
    "for pid in reversed(range(12,17)):\n",
    "    particle_msk = np.logical_and(np.abs(output['PDG_Encoding'])==pid, ~zeros)\n",
    "    name = pid_names[pid]\n",
    "    plt.hist(output['Eout'][particle_msk], bins=bins, label=name,\n",
    "            lw=2., histtype='step')\n",
    "    \n",
    "plt.legend(frameon=False, loc=2)\n",
    "plt.loglog()\n",
    "plt.xlabel(r'$E$ (eV)')\n",
    "plt.ylabel('Number')\n",
    "plt.show()"
   ]
  },
  {
   "cell_type": "markdown",
   "metadata": {},
   "source": [
    "### And next, through a model of the Sun"
   ]
  },
  {
   "cell_type": "code",
   "execution_count": 45,
   "metadata": {},
   "outputs": [
    {
     "ename": "ValueError",
     "evalue": "f(a) and f(b) must have different signs",
     "output_type": "error",
     "traceback": [
      "\u001b[0;31m---------------------------------------------------------------------------\u001b[0m",
      "\u001b[0;31mValueError\u001b[0m                                Traceback (most recent call last)",
      "\u001b[0;32m<ipython-input-45-104400c304a6>\u001b[0m in \u001b[0;36m<module>\u001b[0;34m\u001b[0m\n\u001b[1;32m     11\u001b[0m \u001b[0mbody\u001b[0m \u001b[0;34m=\u001b[0m \u001b[0mHZ_Sun\u001b[0m \u001b[0;31m# Propagate through the sun\u001b[0m\u001b[0;34m\u001b[0m\u001b[0;34m\u001b[0m\u001b[0m\n\u001b[1;32m     12\u001b[0m \u001b[0mtracks\u001b[0m \u001b[0;34m=\u001b[0m \u001b[0mmake_tracks\u001b[0m\u001b[0;34m(\u001b[0m\u001b[0mthetas\u001b[0m\u001b[0;34m)\u001b[0m\u001b[0;34m\u001b[0m\u001b[0;34m\u001b[0m\u001b[0m\n\u001b[0;32m---> 13\u001b[0;31m \u001b[0mtau_prop\u001b[0m \u001b[0;34m=\u001b[0m \u001b[0mmake_propagator\u001b[0m\u001b[0;34m(\u001b[0m\u001b[0mpid\u001b[0m\u001b[0;34m,\u001b[0m \u001b[0mbody\u001b[0m\u001b[0;34m)\u001b[0m\u001b[0;34m\u001b[0m\u001b[0;34m\u001b[0m\u001b[0m\n\u001b[0m\u001b[1;32m     14\u001b[0m \u001b[0mrand\u001b[0m \u001b[0;34m=\u001b[0m \u001b[0mnp\u001b[0m\u001b[0;34m.\u001b[0m\u001b[0mrandom\u001b[0m\u001b[0;34m.\u001b[0m\u001b[0mRandomState\u001b[0m\u001b[0;34m(\u001b[0m\u001b[0mseed\u001b[0m\u001b[0;34m=\u001b[0m\u001b[0;36m7\u001b[0m\u001b[0;34m)\u001b[0m\u001b[0;34m\u001b[0m\u001b[0;34m\u001b[0m\u001b[0m\n",
      "\u001b[0;32m/mnt/lfs7/user/apizzuto/TauRunner/taurunner/utils/make_propagator.py\u001b[0m in \u001b[0;36mmake_propagator\u001b[0;34m(ID, body, xs_model, granularity)\u001b[0m\n\u001b[1;32m     41\u001b[0m \u001b[0;34m\u001b[0m\u001b[0m\n\u001b[1;32m     42\u001b[0m     \u001b[0;31m#define how many layers of constant density we need for the tau\u001b[0m\u001b[0;34m\u001b[0m\u001b[0;34m\u001b[0m\u001b[0;34m\u001b[0m\u001b[0m\n\u001b[0;32m---> 43\u001b[0;31m     \u001b[0mdescs\u001b[0m \u001b[0;34m=\u001b[0m \u001b[0msegment_body\u001b[0m\u001b[0;34m(\u001b[0m\u001b[0mbody\u001b[0m\u001b[0;34m,\u001b[0m \u001b[0mgranularity\u001b[0m\u001b[0;34m)\u001b[0m\u001b[0;34m\u001b[0m\u001b[0;34m\u001b[0m\u001b[0m\n\u001b[0m\u001b[1;32m     44\u001b[0m     \u001b[0;31m#make the sectors\u001b[0m\u001b[0;34m\u001b[0m\u001b[0;34m\u001b[0m\u001b[0;34m\u001b[0m\u001b[0m\n\u001b[1;32m     45\u001b[0m     \u001b[0msec_defs\u001b[0m \u001b[0;34m=\u001b[0m \u001b[0;34m[\u001b[0m\u001b[0mmake_sector\u001b[0m\u001b[0;34m(\u001b[0m\u001b[0md\u001b[0m\u001b[0;34m/\u001b[0m\u001b[0munits\u001b[0m\u001b[0;34m.\u001b[0m\u001b[0mgr\u001b[0m\u001b[0;34m*\u001b[0m\u001b[0munits\u001b[0m\u001b[0;34m.\u001b[0m\u001b[0mcm\u001b[0m\u001b[0;34m**\u001b[0m\u001b[0;36m3\u001b[0m\u001b[0;34m,\u001b[0m \u001b[0ms\u001b[0m\u001b[0;34m*\u001b[0m\u001b[0mbody\u001b[0m\u001b[0;34m.\u001b[0m\u001b[0mradius\u001b[0m\u001b[0;34m/\u001b[0m\u001b[0munits\u001b[0m\u001b[0;34m.\u001b[0m\u001b[0mmeter\u001b[0m\u001b[0;34m,\u001b[0m \u001b[0me\u001b[0m\u001b[0;34m*\u001b[0m\u001b[0mbody\u001b[0m\u001b[0;34m.\u001b[0m\u001b[0mradius\u001b[0m\u001b[0;34m/\u001b[0m\u001b[0munits\u001b[0m\u001b[0;34m.\u001b[0m\u001b[0mmeter\u001b[0m\u001b[0;34m,\u001b[0m \u001b[0mxs_model\u001b[0m\u001b[0;34m)\u001b[0m \u001b[0;32mfor\u001b[0m \u001b[0ms\u001b[0m\u001b[0;34m,\u001b[0m \u001b[0me\u001b[0m\u001b[0;34m,\u001b[0m \u001b[0md\u001b[0m \u001b[0;32min\u001b[0m \u001b[0mdescs\u001b[0m\u001b[0;34m]\u001b[0m\u001b[0;34m\u001b[0m\u001b[0;34m\u001b[0m\u001b[0m\n",
      "\u001b[0;32m/mnt/lfs7/user/apizzuto/TauRunner/taurunner/utils/make_propagator.py\u001b[0m in \u001b[0;36msegment_body\u001b[0;34m(body, granularity)\u001b[0m\n\u001b[1;32m     23\u001b[0m                 \u001b[0ms_density\u001b[0m \u001b[0;34m=\u001b[0m \u001b[0mbody\u001b[0m\u001b[0;34m.\u001b[0m\u001b[0mget_density\u001b[0m\u001b[0;34m(\u001b[0m\u001b[0mstart\u001b[0m\u001b[0;34m,\u001b[0m \u001b[0mright\u001b[0m\u001b[0;34m=\u001b[0m\u001b[0;32mFalse\u001b[0m\u001b[0;34m)\u001b[0m\u001b[0;34m\u001b[0m\u001b[0;34m\u001b[0m\u001b[0m\n\u001b[1;32m     24\u001b[0m                 \u001b[0mfunc\u001b[0m      \u001b[0;34m=\u001b[0m \u001b[0;32mlambda\u001b[0m \u001b[0mx\u001b[0m\u001b[0;34m:\u001b[0m \u001b[0mnp\u001b[0m\u001b[0;34m.\u001b[0m\u001b[0mabs\u001b[0m\u001b[0;34m(\u001b[0m\u001b[0mbody\u001b[0m\u001b[0;34m.\u001b[0m\u001b[0mget_density\u001b[0m\u001b[0;34m(\u001b[0m\u001b[0mx\u001b[0m\u001b[0;34m,\u001b[0m \u001b[0mright\u001b[0m\u001b[0;34m=\u001b[0m\u001b[0;32mTrue\u001b[0m\u001b[0;34m)\u001b[0m\u001b[0;34m-\u001b[0m\u001b[0ms_density\u001b[0m\u001b[0;34m)\u001b[0m\u001b[0;34m/\u001b[0m\u001b[0ms_density\u001b[0m\u001b[0;34m-\u001b[0m\u001b[0mgranularity\u001b[0m\u001b[0;34m\u001b[0m\u001b[0;34m\u001b[0m\u001b[0m\n\u001b[0;32m---> 25\u001b[0;31m                 \u001b[0mend\u001b[0m       \u001b[0;34m=\u001b[0m \u001b[0mridder\u001b[0m\u001b[0;34m(\u001b[0m\u001b[0mfunc\u001b[0m\u001b[0;34m,\u001b[0m \u001b[0mxi\u001b[0m\u001b[0;34m,\u001b[0m \u001b[0mxf\u001b[0m\u001b[0;34m)\u001b[0m\u001b[0;34m\u001b[0m\u001b[0;34m\u001b[0m\u001b[0m\n\u001b[0m\u001b[1;32m     26\u001b[0m                 \u001b[0;32mif\u001b[0m \u001b[0mend\u001b[0m\u001b[0;34m>\u001b[0m\u001b[0mxf\u001b[0m\u001b[0;34m:\u001b[0m \u001b[0;31m# you've left the layer so only go to end of layer\u001b[0m\u001b[0;34m\u001b[0m\u001b[0;34m\u001b[0m\u001b[0m\n\u001b[1;32m     27\u001b[0m                     \u001b[0mend\u001b[0m \u001b[0;34m=\u001b[0m \u001b[0mxf\u001b[0m\u001b[0;34m\u001b[0m\u001b[0;34m\u001b[0m\u001b[0m\n",
      "\u001b[0;32m~/.venvs/py3_realtime/lib/python3.7/site-packages/scipy/optimize/zeros.py\u001b[0m in \u001b[0;36mridder\u001b[0;34m(f, a, b, args, xtol, rtol, maxiter, full_output, disp)\u001b[0m\n\u001b[1;32m    625\u001b[0m     \u001b[0;32mif\u001b[0m \u001b[0mrtol\u001b[0m \u001b[0;34m<\u001b[0m \u001b[0m_rtol\u001b[0m\u001b[0;34m:\u001b[0m\u001b[0;34m\u001b[0m\u001b[0;34m\u001b[0m\u001b[0m\n\u001b[1;32m    626\u001b[0m         \u001b[0;32mraise\u001b[0m \u001b[0mValueError\u001b[0m\u001b[0;34m(\u001b[0m\u001b[0;34m\"rtol too small (%g < %g)\"\u001b[0m \u001b[0;34m%\u001b[0m \u001b[0;34m(\u001b[0m\u001b[0mrtol\u001b[0m\u001b[0;34m,\u001b[0m \u001b[0m_rtol\u001b[0m\u001b[0;34m)\u001b[0m\u001b[0;34m)\u001b[0m\u001b[0;34m\u001b[0m\u001b[0;34m\u001b[0m\u001b[0m\n\u001b[0;32m--> 627\u001b[0;31m     \u001b[0mr\u001b[0m \u001b[0;34m=\u001b[0m \u001b[0m_zeros\u001b[0m\u001b[0;34m.\u001b[0m\u001b[0m_ridder\u001b[0m\u001b[0;34m(\u001b[0m\u001b[0mf\u001b[0m\u001b[0;34m,\u001b[0m \u001b[0ma\u001b[0m\u001b[0;34m,\u001b[0m \u001b[0mb\u001b[0m\u001b[0;34m,\u001b[0m \u001b[0mxtol\u001b[0m\u001b[0;34m,\u001b[0m \u001b[0mrtol\u001b[0m\u001b[0;34m,\u001b[0m \u001b[0mmaxiter\u001b[0m\u001b[0;34m,\u001b[0m \u001b[0margs\u001b[0m\u001b[0;34m,\u001b[0m \u001b[0mfull_output\u001b[0m\u001b[0;34m,\u001b[0m \u001b[0mdisp\u001b[0m\u001b[0;34m)\u001b[0m\u001b[0;34m\u001b[0m\u001b[0;34m\u001b[0m\u001b[0m\n\u001b[0m\u001b[1;32m    628\u001b[0m     \u001b[0;32mreturn\u001b[0m \u001b[0mresults_c\u001b[0m\u001b[0;34m(\u001b[0m\u001b[0mfull_output\u001b[0m\u001b[0;34m,\u001b[0m \u001b[0mr\u001b[0m\u001b[0;34m)\u001b[0m\u001b[0;34m\u001b[0m\u001b[0;34m\u001b[0m\u001b[0m\n\u001b[1;32m    629\u001b[0m \u001b[0;34m\u001b[0m\u001b[0m\n",
      "\u001b[0;31mValueError\u001b[0m: f(a) and f(b) must have different signs"
     ]
    }
   ],
   "source": [
    "nevents  = 10000                    # number of events to simulate\n",
    "eini     = 1e15                     # intial energy in eV\n",
    "theta    = 0.                       # initial incidence angle (nadir) in radians\n",
    "pid      = 16                       # particle id according to the PDG MC Encoding (nutau)\n",
    "xs_model = 'dipole'                   # neutrino cross section and tau loss model (CSMS or dipole)\n",
    "                                   \n",
    "xs       = CrossSections(xs_model)           # Make cross section object\n",
    "energies = np.ones(nevents)*eini             # Make array of energies\n",
    "thetas   = np.ones(nevents)*theta            # Make array of nadir angles in radians\n",
    "\n",
    "body = HZ_Sun # Propagate through the sun\n",
    "tracks = make_tracks(thetas)\n",
    "tau_prop = make_propagator(pid, body)\n",
    "rand = np.random.RandomState(seed=7)"
   ]
  },
  {
   "cell_type": "markdown",
   "metadata": {},
   "source": [
    "## Example 4: Running from the command line"
   ]
  },
  {
   "cell_type": "markdown",
   "metadata": {},
   "source": [
    "As is described more thoroughly in the `README`, `taurunner` can also be called from the command line, an example of which is shown inline below"
   ]
  },
  {
   "cell_type": "code",
   "execution_count": 25,
   "metadata": {},
   "outputs": [
    {
     "name": "stdout",
     "output_type": "stream",
     "text": [
      "╒═════════════╤═════════════╤═════════╤═══════╤═══════╤════════════════╕\r\n",
      "│        Eini │        Eout │   Theta │   nCC │   nNC │   PDG_Encoding │\r\n",
      "╞═════════════╪═════════════╪═════════╪═══════╪═══════╪════════════════╡\r\n",
      "│ 1e+18       │ 2.63247e+13 │       0 │     4 │     2 │             16 │\r\n",
      "├─────────────┼─────────────┼─────────┼───────┼───────┼────────────────┤\r\n",
      "│ 1e+18       │ 2.64058e+13 │       0 │     3 │     1 │             16 │\r\n",
      "├─────────────┼─────────────┼─────────┼───────┼───────┼────────────────┤\r\n",
      "│ 1e+18       │ 4.0619e+14  │       0 │     5 │     2 │             16 │\r\n",
      "├─────────────┼─────────────┼─────────┼───────┼───────┼────────────────┤\r\n",
      "│ 1e+18       │ 1.23462e+13 │       0 │     6 │     0 │             16 │\r\n",
      "├─────────────┼─────────────┼─────────┼───────┼───────┼────────────────┤\r\n",
      "│ 1e+18       │ 1.91583e+14 │       0 │     4 │     3 │             16 │\r\n",
      "├─────────────┼─────────────┼─────────┼───────┼───────┼────────────────┤\r\n",
      "│ 1e+18       │ 2.13525e+13 │       0 │     5 │     4 │             16 │\r\n",
      "├─────────────┼─────────────┼─────────┼───────┼───────┼────────────────┤\r\n",
      "│ 1e+18       │ 1.05069e+12 │       0 │     4 │     3 │             16 │\r\n",
      "├─────────────┼─────────────┼─────────┼───────┼───────┼────────────────┤\r\n",
      "│ 1e+18       │ 6.2092e+13  │       0 │     5 │     1 │             16 │\r\n",
      "├─────────────┼─────────────┼─────────┼───────┼───────┼────────────────┤\r\n",
      "│ 1e+18       │ 5.21024e+12 │       0 │     5 │     1 │             16 │\r\n",
      "├─────────────┼─────────────┼─────────┼───────┼───────┼────────────────┤\r\n",
      "│ 1e+18       │ 5.05551e+14 │       0 │     5 │     1 │             16 │\r\n",
      "├─────────────┼─────────────┼─────────┼───────┼───────┼────────────────┤\r\n",
      "│ 1e+18       │ 3.69595e+14 │       0 │     4 │     1 │             16 │\r\n",
      "├─────────────┼─────────────┼─────────┼───────┼───────┼────────────────┤\r\n",
      "│ 1e+18       │ 1.03907e+14 │       0 │     4 │     2 │             16 │\r\n",
      "├─────────────┼─────────────┼─────────┼───────┼───────┼────────────────┤\r\n",
      "│ 1e+18       │ 1.01386e+14 │       0 │     4 │     2 │             16 │\r\n",
      "├─────────────┼─────────────┼─────────┼───────┼───────┼────────────────┤\r\n",
      "│ 1e+18       │ 4.3047e+13  │       0 │     4 │     2 │             16 │\r\n",
      "├─────────────┼─────────────┼─────────┼───────┼───────┼────────────────┤\r\n",
      "│ 1e+18       │ 4.57512e+13 │       0 │     3 │     4 │             16 │\r\n",
      "├─────────────┼─────────────┼─────────┼───────┼───────┼────────────────┤\r\n",
      "│ 1e+18       │ 6.10885e+13 │       0 │     7 │     1 │             16 │\r\n",
      "├─────────────┼─────────────┼─────────┼───────┼───────┼────────────────┤\r\n",
      "│ 1e+18       │ 3.62768e+14 │       0 │     3 │     1 │             16 │\r\n",
      "├─────────────┼─────────────┼─────────┼───────┼───────┼────────────────┤\r\n",
      "│ 1e+18       │ 7.38027e+13 │       0 │     3 │     2 │             16 │\r\n",
      "├─────────────┼─────────────┼─────────┼───────┼───────┼────────────────┤\r\n",
      "│ 1e+18       │ 8.39628e+12 │       0 │     4 │     0 │             16 │\r\n",
      "├─────────────┼─────────────┼─────────┼───────┼───────┼────────────────┤\r\n",
      "│ 1e+18       │ 3.81146e+13 │       0 │     3 │     4 │             16 │\r\n",
      "├─────────────┼─────────────┼─────────┼───────┼───────┼────────────────┤\r\n",
      "│ 9.42265e+12 │ 9.42265e+12 │       0 │     0 │     0 │            -14 │\r\n",
      "├─────────────┼─────────────┼─────────┼───────┼───────┼────────────────┤\r\n",
      "│ 2.57642e+13 │ 0           │       0 │     1 │     0 │            -13 │\r\n",
      "├─────────────┼─────────────┼─────────┼───────┼───────┼────────────────┤\r\n",
      "│ 9.02476e+15 │ 0           │       0 │     1 │     0 │            -11 │\r\n",
      "├─────────────┼─────────────┼─────────┼───────┼───────┼────────────────┤\r\n",
      "│ 1.36254e+15 │ 0           │       0 │     1 │     1 │            -11 │\r\n",
      "├─────────────┼─────────────┼─────────┼───────┼───────┼────────────────┤\r\n",
      "│ 5.95644e+12 │ 0           │       0 │     1 │     0 │            -11 │\r\n",
      "├─────────────┼─────────────┼─────────┼───────┼───────┼────────────────┤\r\n",
      "│ 1.20906e+14 │ 0           │       0 │     1 │     0 │            -11 │\r\n",
      "├─────────────┼─────────────┼─────────┼───────┼───────┼────────────────┤\r\n",
      "│ 2.74079e+14 │ 0           │       0 │     1 │     0 │            -11 │\r\n",
      "├─────────────┼─────────────┼─────────┼───────┼───────┼────────────────┤\r\n",
      "│ 3.66901e+16 │ 0           │       0 │     1 │     0 │            -13 │\r\n",
      "├─────────────┼─────────────┼─────────┼───────┼───────┼────────────────┤\r\n",
      "│ 2.9405e+14  │ 0           │       0 │     1 │     1 │            -13 │\r\n",
      "├─────────────┼─────────────┼─────────┼───────┼───────┼────────────────┤\r\n",
      "│ 2.65733e+12 │ 2.65733e+12 │       0 │     0 │     0 │            -12 │\r\n",
      "├─────────────┼─────────────┼─────────┼───────┼───────┼────────────────┤\r\n",
      "│ 1.06885e+13 │ 1.06885e+13 │       0 │     0 │     0 │            -14 │\r\n",
      "├─────────────┼─────────────┼─────────┼───────┼───────┼────────────────┤\r\n",
      "│ 4.9003e+13  │ 4.9003e+13  │       0 │     0 │     0 │            -12 │\r\n",
      "├─────────────┼─────────────┼─────────┼───────┼───────┼────────────────┤\r\n",
      "│ 4.8847e+15  │ 0           │       0 │     1 │     0 │            -11 │\r\n",
      "├─────────────┼─────────────┼─────────┼───────┼───────┼────────────────┤\r\n",
      "│ 3.35866e+12 │ 3.35866e+12 │       0 │     0 │     0 │            -14 │\r\n",
      "├─────────────┼─────────────┼─────────┼───────┼───────┼────────────────┤\r\n",
      "│ 1.47545e+16 │ 0           │       0 │     1 │     0 │            -11 │\r\n",
      "├─────────────┼─────────────┼─────────┼───────┼───────┼────────────────┤\r\n",
      "│ 1.57141e+14 │ 0           │       0 │     1 │     0 │            -11 │\r\n",
      "├─────────────┼─────────────┼─────────┼───────┼───────┼────────────────┤\r\n",
      "│ 7.06395e+16 │ 0           │       0 │     1 │     0 │            -11 │\r\n",
      "├─────────────┼─────────────┼─────────┼───────┼───────┼────────────────┤\r\n",
      "│ 9.70269e+13 │ 0           │       0 │     1 │     0 │            -11 │\r\n",
      "├─────────────┼─────────────┼─────────┼───────┼───────┼────────────────┤\r\n",
      "│ 4.46134e+11 │ 4.46134e+11 │       0 │     0 │     0 │            -12 │\r\n",
      "├─────────────┼─────────────┼─────────┼───────┼───────┼────────────────┤\r\n",
      "│ 2.99995e+14 │ 0           │       0 │     1 │     0 │            -11 │\r\n",
      "├─────────────┼─────────────┼─────────┼───────┼───────┼────────────────┤\r\n",
      "│ 1.74733e+14 │ 0           │       0 │     1 │     0 │            -11 │\r\n",
      "├─────────────┼─────────────┼─────────┼───────┼───────┼────────────────┤\r\n",
      "│ 1.05658e+08 │ 0           │       0 │     1 │     0 │            -13 │\r\n",
      "├─────────────┼─────────────┼─────────┼───────┼───────┼────────────────┤\r\n",
      "│ 6.88035e+14 │ 0           │       0 │     1 │     0 │            -13 │\r\n",
      "├─────────────┼─────────────┼─────────┼───────┼───────┼────────────────┤\r\n",
      "│ 5.22599e+14 │ 0           │       0 │     1 │     0 │            -13 │\r\n",
      "├─────────────┼─────────────┼─────────┼───────┼───────┼────────────────┤\r\n",
      "│ 3.47271e+15 │ 0           │       0 │     1 │     0 │            -11 │\r\n",
      "├─────────────┼─────────────┼─────────┼───────┼───────┼────────────────┤\r\n",
      "│ 3.23428e+13 │ 3.23428e+13 │       0 │     0 │     0 │            -14 │\r\n",
      "├─────────────┼─────────────┼─────────┼───────┼───────┼────────────────┤\r\n",
      "│ 1.94242e+15 │ 0           │       0 │     1 │     0 │            -11 │\r\n",
      "╘═════════════╧═════════════╧═════════╧═══════╧═══════╧════════════════╛\r\n"
     ]
    }
   ],
   "source": [
    "!python ../taurunner/main.py -n 20 -t 0.0 -e 1e9"
   ]
  },
  {
   "cell_type": "code",
   "execution_count": null,
   "metadata": {},
   "outputs": [],
   "source": []
  }
 ],
 "metadata": {
  "kernelspec": {
   "display_name": "Python 3",
   "language": "python",
   "name": "python3"
  },
  "language_info": {
   "codemirror_mode": {
    "name": "ipython",
    "version": 3
   },
   "file_extension": ".py",
   "mimetype": "text/x-python",
   "name": "python",
   "nbconvert_exporter": "python",
   "pygments_lexer": "ipython3",
   "version": "3.7.5"
  }
 },
 "nbformat": 4,
 "nbformat_minor": 2
}
