{
 "cells": [
  {
   "cell_type": "markdown",
   "metadata": {},
   "source": [
    "## TauRunner\n",
    "\n",
    "Welcome to the TauRunner tutorial! This software is capable of simulating neutrinos (and anti-neutrinos) of all flavors, accounting for tau regeneration and losses in the nutau channel. The output is a set of particle energies, number of interactions, angle, and particle type.\n",
    "\n",
    "The user has the option to propagate:\n",
    "1. monochromatic fluxes\n",
    "2. power-law fluxes\n",
    "3. Any provided arbitrary flux by means of sampling from a cdf. \n",
    "\n",
    "All of these can be propagated through either:\n",
    "1. a fixed angle\n",
    "2. a range of angles\n",
    "3. uniformly sampled angles in the sky. \n",
    "\n",
    "In terms of astrophysical bodies, we provide implementations for the Earth and Sun with capabilities of adding additional layers and changing the detector depth. In addition, we will demonstrate how to define any astrophysical object, or a slab of constant density to propagate through. All of these capabilities will be shown in the following examples. Happy running!"
   ]
  },
  {
   "cell_type": "markdown",
   "metadata": {},
   "source": [
    "## Example 1: Monochromatic flux through single angle in Earth ##\n",
    "\n",
    "The main function that runs the monte carlo is called `run_MC` and required a few arguments, which we show you how to create below\n",
    "* `energies`: An array of initial particle energies in eV\n",
    "* `thetas`: A corresponding array of initial nadir angles in radians\n",
    "* `body`: The body which we are propagating through (Earth, Sun, custom, etc.)\n",
    "* `xs`: a CrossSections object which is based on a certain cross section model\n",
    "* `propagator`: PROPOSAL propagator object for charged lepton propagation"
   ]
  },
  {
   "cell_type": "code",
   "execution_count": 1,
   "metadata": {},
   "outputs": [
    {
     "ename": "ModuleNotFoundError",
     "evalue": "No module named 'numpy'",
     "output_type": "error",
     "traceback": [
      "\u001b[0;31m---------------------------------------------------------------------------\u001b[0m",
      "\u001b[0;31mModuleNotFoundError\u001b[0m                       Traceback (most recent call last)",
      "Cell \u001b[0;32mIn[1], line 1\u001b[0m\n\u001b[0;32m----> 1\u001b[0m \u001b[38;5;28;01mimport\u001b[39;00m \u001b[38;5;21;01mnumpy\u001b[39;00m \u001b[38;5;28;01mas\u001b[39;00m \u001b[38;5;21;01mnp\u001b[39;00m\n\u001b[1;32m      3\u001b[0m \u001b[38;5;28;01mfrom\u001b[39;00m \u001b[38;5;21;01mtaurunner\u001b[39;00m\u001b[38;5;21;01m.\u001b[39;00m\u001b[38;5;21;01mmain\u001b[39;00m \u001b[38;5;28;01mimport\u001b[39;00m run_MC\n\u001b[1;32m      4\u001b[0m \u001b[38;5;28;01mfrom\u001b[39;00m \u001b[38;5;21;01mtaurunner\u001b[39;00m\u001b[38;5;21;01m.\u001b[39;00m\u001b[38;5;21;01mbody\u001b[39;00m\u001b[38;5;21;01m.\u001b[39;00m\u001b[38;5;21;01mearth\u001b[39;00m \u001b[38;5;28;01mimport\u001b[39;00m construct_earth\n",
      "\u001b[0;31mModuleNotFoundError\u001b[0m: No module named 'numpy'"
     ]
    }
   ],
   "source": [
    "import numpy as np\n",
    "\n",
    "from taurunner.main import run_MC\n",
    "from taurunner.body.earth import construct_earth\n",
    "from taurunner.cross_sections import CrossSections\n",
    "from taurunner.utils import make_initial_e, make_initial_thetas\n",
    "\n",
    "nevents  = 5000 # number of events to simulate\n",
    "eini = 1e19 # initial energy in eV\n",
    "theta = 89.0 # incidence angle (nadir)\n",
    "pid = 16 # PDG MC Encoding particle ID (nutau)\n",
    "xs_model = \"CSMS\" # neutrino cross section model\n",
    "random_seed = 925\n",
    "\n",
    "earth = construct_earth(layers=[(4., 1.0)]) # Make Earth object with 4km water layer\n",
    "xs = CrossSections(xs_model)\n",
    "energies = make_initial_e(nevents, eini) # Return array of initial energies in eV\n",
    "thetas = make_initial_thetas(nevents, theta)\n",
    "\n",
    "output = run_MC(\n",
    "    energies,\n",
    "    thetas,\n",
    "    earth,\n",
    "    xs,\n",
    "    seed=random_seed\n",
    ")"
   ]
  },
  {
   "cell_type": "code",
   "execution_count": 2,
   "metadata": {},
   "outputs": [
    {
     "data": {
      "image/png": "[encoded data removed]",
      "text/plain": [
       "<Figure size 540x360 with 1 Axes>"
      ]
     },
     "metadata": {
      "needs_background": "light"
     },
     "output_type": "display_data"
    }
   ],
   "source": [
    "import matplotlib.pyplot as plt\n",
    "\n",
    "pid_names = {\n",
    "    11: r'$e$', \n",
    "    12: r'$\\nu_{e}$', \n",
    "    13: r'$\\mu$', \n",
    "    14: r'$\\nu_{\\mu}$',\n",
    "    15: r'$\\tau$',\n",
    "    16: r'$\\nu_{\\tau}$'\n",
    "}\n",
    "\n",
    "bins  = np.logspace(12, 19, 75)\n",
    "zeros = output['Eout']==0.\n",
    "\n",
    "for pid in np.unique(output['PDG_Encoding']):\n",
    "    particle_msk = np.logical_and(np.abs(output['PDG_Encoding'])==pid, ~zeros)\n",
    "    name = pid_names[abs(pid)]ty\n",
    "    plt.hist(output['Eout'][particle_msk], bins=bins, label=name,\n",
    "            lw=2., histtype='step')\n",
    "    \n",
    "plt.legend(frameon=False, loc=2)\n",
    "plt.loglog()\n",
    "plt.xlabel(r'$E~\\left(\\rm{eV}\\right)$')\n",
    "plt.ylabel('Number')\n",
    "plt.show()"
   ]
  },
  {
   "cell_type": "markdown",
   "metadata": {},
   "source": [
    "## Example 2: Power law flux\n",
    "\n",
    "`taurunner` also provides helper functions to propagate other spectral shapes, such as power laws or pre-loaded models of cosmogenic neutrinos.\n",
    "Here, we are choosing to propagate an $E^{-2}$ spectrum over an entire hemisphere. \n",
    "There are some additional keyword arguments that allow the user to turn off tau energy losses (which are less important for more steeply inclined angles) or ignore secondary particles"
   ]
  },
  {
   "cell_type": "code",
   "execution_count": 2,
   "metadata": {},
   "outputs": [
    {
     "ename": "ModuleNotFoundError",
     "evalue": "No module named 'numpy'",
     "output_type": "error",
     "traceback": [
      "\u001b[0;31m---------------------------------------------------------------------------\u001b[0m",
      "\u001b[0;31mModuleNotFoundError\u001b[0m                       Traceback (most recent call last)",
      "Cell \u001b[0;32mIn[2], line 1\u001b[0m\n\u001b[0;32m----> 1\u001b[0m \u001b[38;5;28;01mimport\u001b[39;00m \u001b[38;5;21;01mnumpy\u001b[39;00m \u001b[38;5;28;01mas\u001b[39;00m \u001b[38;5;21;01mnp\u001b[39;00m\n\u001b[1;32m      3\u001b[0m \u001b[38;5;28;01mfrom\u001b[39;00m \u001b[38;5;21;01mtaurunner\u001b[39;00m\u001b[38;5;21;01m.\u001b[39;00m\u001b[38;5;21;01mmain\u001b[39;00m \u001b[38;5;28;01mimport\u001b[39;00m run_MC\n\u001b[1;32m      4\u001b[0m \u001b[38;5;28;01mfrom\u001b[39;00m \u001b[38;5;21;01mtaurunner\u001b[39;00m\u001b[38;5;21;01m.\u001b[39;00m\u001b[38;5;21;01mbody\u001b[39;00m\u001b[38;5;21;01m.\u001b[39;00m\u001b[38;5;21;01mearth\u001b[39;00m \u001b[38;5;28;01mimport\u001b[39;00m construct_earth\n",
      "\u001b[0;31mModuleNotFoundError\u001b[0m: No module named 'numpy'"
     ]
    }
   ],
   "source": [
    "import numpy as np\n",
    "\n",
    "from taurunner.main import run_MC\n",
    "from taurunner.body.earth import construct_earth\n",
    "from taurunner.cross_sections import CrossSections\n",
    "from taurunner.utils import make_initial_e, make_initial_thetas\n",
    "\n",
    "nevents = 5000 # number of events to simulate  \n",
    "pid = 16\n",
    "xs_model = \"CSMS\"\n",
    "no_secondaries = True\n",
    "random_seed = 925\n",
    "\n",
    "np.random.seed(random_seed)\n",
    "\n",
    "Earth = construct_earth(layers=[(4., 1.0)])\n",
    "xs = CrossSections(xs_model)\n",
    "\n",
    "# Sample power-law with index -2 between 1e6 GeV and 1e12 GeV\n",
    "pl_exp = -2 # power law exponent\n",
    "e_min = 1e15 # Minimum energy to sample in eV\n",
    "e_max = 1e21 # Maximum energy to sample in eV\n",
    "energies = make_initial_e(\n",
    "    nevents,\n",
    "    pl_exp, \n",
    "    e_min=e_max, \n",
    "    e_max=e_min\n",
    ")\n",
    "\n",
    "# Sample uniform in solid angle over hemisphere                    \n",
    "th_min = 0 # Minimum nadir angle to sample from\n",
    "th_max = 90 # Maximum nadir angle to sample from\n",
    "thetas = make_initial_thetas(\n",
    "    nevents, \n",
    "    (th_min, th_max), \n",
    ")\n",
    "\n",
    "output = run_MC(\n",
    "    energies, \n",
    "    thetas, \n",
    "    Earth, \n",
    "    xs,\n",
    "    seed=random_seed,\n",
    "    no_secondaries=no_secondaries\n",
    ")"
   ]
  },
  {
   "cell_type": "code",
   "execution_count": 4,
   "metadata": {},
   "outputs": [
    {
     "data": {
      "image/png": "[encoded data removed]",
      "text/plain": [
       "<Figure size 540x360 with 1 Axes>"
      ]
     },
     "metadata": {
      "needs_background": "light"
     },
     "output_type": "display_data"
    }
   ],
   "source": [
    "import matplotlib.pyplot as plt\n",
    "from matplotlib.colors import LogNorm\n",
    "\n",
    "zeros = output['Eout']==0.\n",
    "nutau_msk = np.logical_and(np.abs(output['PDG_Encoding'])==16, ~zeros)\n",
    "plt.hist2d(\n",
    "    output['Eini'][nutau_msk], \n",
    "    np.cos(np.radians(output['Theta'][nutau_msk])), \n",
    "    bins=[\n",
    "        np.logspace(15., 21., 21), \n",
    "        np.linspace(0., 1., 21)\n",
    "    ],\n",
    "    norm=LogNorm()\n",
    ")\n",
    "\n",
    "plt.xscale('log')\n",
    "plt.xlabel(r'$E_{\\rm{initial}}~(\\rm{eV})$')\n",
    "plt.ylabel(r'$\\cos(\\theta)$')\n",
    "plt.title(\"Initial Energy Distribution\")\n",
    "plt.show()"
   ]
  },
  {
   "cell_type": "code",
   "execution_count": 5,
   "metadata": {},
   "outputs": [
    {
     "data": {
      "image/png": "[encoded data removed]",
      "text/plain": [
       "<Figure size 540x360 with 1 Axes>"
      ]
     },
     "metadata": {
      "needs_background": "light"
     },
     "output_type": "display_data"
    }
   ],
   "source": [
    "from matplotlib.colors import LogNorm\n",
    "\n",
    "bins  = np.logspace(12, 19, 75)\n",
    "zeros = output['Eout']==0.\n",
    "nutau_msk = np.logical_and(np.abs(output['PDG_Encoding'])==16, ~zeros)\n",
    "plt.hist2d(\n",
    "    output['Eout'][nutau_msk], \n",
    "    np.cos(np.radians(output['Theta'][nutau_msk])), \n",
    "    bins=[np.logspace(11, 18., 21), \n",
    "          np.linspace(0., 1., 21)],\n",
    "    norm=LogNorm()\n",
    ")\n",
    "\n",
    "plt.xscale('log')\n",
    "plt.xlabel(r'$E_{\\rm{final}}~(\\rm{eV})$')\n",
    "plt.ylabel(r'$\\cos(\\theta)$')\n",
    "plt.title(\"Final Energy Distribution\")\n",
    "plt.show()"
   ]
  },
  {
   "cell_type": "markdown",
   "metadata": {},
   "source": [
    "Here, it is evident that the neutrinos that were propagated through more Earth (larger $\\cos(\\theta)$) exit the Earth at much lower energies than the neutrinos that were able to pass through skimming trajectories undergoing few, if any, interactions\n",
    "\n",
    "We can also look at the one-dimensional energy spectra"
   ]
  },
  {
   "cell_type": "code",
   "execution_count": 6,
   "metadata": {},
   "outputs": [
    {
     "data": {
      "image/png": "[encoded data removed]",
      "text/plain": [
       "<Figure size 540x360 with 1 Axes>"
      ]
     },
     "metadata": {
      "needs_background": "light"
     },
     "output_type": "display_data"
    }
   ],
   "source": [
    "zeros = output['Eout']==0.\n",
    "\n",
    "for pid in np.unique(output['PDG_Encoding']):\n",
    "    particle_msk = np.logical_and(np.abs(output['PDG_Encoding'])==pid, ~zeros)\n",
    "    name = pid_names[abs(pid)]\n",
    "    plt.hist(output['Eout'][particle_msk], bins=bins, label=name,\n",
    "             lw=2., histtype='step')\n",
    "    \n",
    "plt.legend(frameon=False, loc=1)\n",
    "plt.loglog()\n",
    "plt.xlabel(r'$E$ (eV)')\n",
    "plt.ylabel('Number')\n",
    "plt.show()"
   ]
  },
  {
   "cell_type": "markdown",
   "metadata": {},
   "source": [
    "Notice how there are only tau neutrinos because we chose to not propagate any secondary particles. "
   ]
  },
  {
   "cell_type": "markdown",
   "metadata": {},
   "source": [
    "## Example 3: Propagating a custom flux through Earth\n",
    "\n",
    "`taurunner` allows the user to supply CDFs in energy to be samlped from. Here we show an example of sampling from a GZK model. An example of how to create these CDFs is given in `make_flux_CDF.ipynb`\n",
    "\n",
    "NOTE: If you downloaded the code using the versioins released on PyPI (i.e. you did not clone the github repository), then you will not have access to the default CDF, and you should instead make your own CDF using the example notebook linked above"
   ]
  },
  {
   "cell_type": "code",
   "execution_count": 7,
   "metadata": {},
   "outputs": [],
   "source": [
    "import numpy as np\n",
    "\n",
    "import taurunner as tr\n",
    "from taurunner.main import run_MC\n",
    "from taurunner.body.earth import construct_earth\n",
    "from taurunner.cross_sections import CrossSections\n",
    "from taurunner.utils import make_initial_e, make_initial_thetas\n",
    "\n",
    "nevents = 5000\n",
    "pid = 16\n",
    "xs_model = \"CSMS\"\n",
    "random_seed = 925\n",
    "\n",
    "Earth = construct_earth(layers=[(4., 1.0)])\n",
    "xs = CrossSections(xs_model)\n",
    "\n",
    "# Sample from pickled CDF\n",
    "pkl_f = f'{tr.__path__[0]}/resources/ahlers2010_test.pkl' # Path to pickle file with CDF to sample from\n",
    "\n",
    "np.random.seed(random_seed)\n",
    "\n",
    "energies = make_initial_e(\n",
    "    nevents,\n",
    "    pkl_f, \n",
    ")\n",
    "                         \n",
    "# Sample uniform in solid angle over hemisphere   \n",
    "th_min = 0 # Minimum nadir angle to sample from\n",
    "th_max = 90 # Maximum nadir angle to sample from  \n",
    "thetas = make_initial_thetas(\n",
    "    nevents, \n",
    "    (th_min, th_max), \n",
    ")\n",
    "\n",
    "output = run_MC(\n",
    "    energies, \n",
    "    thetas, \n",
    "    Earth, \n",
    "    xs,\n",
    ")"
   ]
  },
  {
   "cell_type": "code",
   "execution_count": 8,
   "metadata": {},
   "outputs": [
    {
     "data": {
      "image/png": "[encoded data removed]",
      "text/plain": [
       "<Figure size 540x360 with 1 Axes>"
      ]
     },
     "metadata": {
      "needs_background": "light"
     },
     "output_type": "display_data"
    }
   ],
   "source": [
    "import matplotlib.pyplot as plt\n",
    "from matplotlib.colors import LogNorm\n",
    "\n",
    "bins  = np.logspace(12, 19, 75)\n",
    "zeros = output['Eout']==0.\n",
    "nutau_msk = np.logical_and(np.abs(output['PDG_Encoding'])==16, ~zeros)\n",
    "plt.hist2d(\n",
    "    output['Eini'][nutau_msk], \n",
    "    np.cos(np.radians(output['Theta'][nutau_msk])), \n",
    "    bins=[np.logspace(12., 19., 27), \n",
    "          np.linspace(0., 1., 21)],\n",
    "    norm=LogNorm()\n",
    ")\n",
    "\n",
    "plt.xscale('log')\n",
    "plt.xlabel(r'$E_{\\rm{initial}}$ (eV)')\n",
    "plt.ylabel(r'$\\cos(\\theta)$')\n",
    "plt.title(\"Initial Energy Distribution\")\n",
    "plt.show()"
   ]
  },
  {
   "cell_type": "code",
   "execution_count": 9,
   "metadata": {},
   "outputs": [
    {
     "data": {
      "image/png": "[encoded data removed]",
      "text/plain": [
       "<Figure size 540x360 with 1 Axes>"
      ]
     },
     "metadata": {
      "needs_background": "light"
     },
     "output_type": "display_data"
    }
   ],
   "source": [
    "from matplotlib.colors import LogNorm\n",
    "\n",
    "bins  = np.logspace(12, 19, 75)\n",
    "zeros = output['Eout']==0.\n",
    "nutau_msk = np.logical_and(np.abs(output['PDG_Encoding'])==16, ~zeros)\n",
    "plt.hist2d(\n",
    "    output['Eout'][nutau_msk], \n",
    "    np.cos(np.radians(output['Theta'][nutau_msk])), \n",
    "    bins=[np.logspace(12., 19., 27), \n",
    "          np.linspace(0., 1., 21)],\n",
    "    norm=LogNorm()\n",
    ")\n",
    "\n",
    "plt.xscale('log')\n",
    "plt.xlabel(r'$E_{\\rm{final}}$ (eV)')\n",
    "plt.ylabel(r'$\\cos(\\theta)$')\n",
    "plt.title(\"Final Energy Distribution\")\n",
    "plt.show()"
   ]
  },
  {
   "cell_type": "markdown",
   "metadata": {},
   "source": [
    "## Example 4: Radial trajectories\n",
    "\n",
    "TauRunner supports custom trajectories besides chords. TauRunner includes a radial trajectory which moves radially outward from the center of the body"
   ]
  },
  {
   "cell_type": "code",
   "execution_count": 10,
   "metadata": {},
   "outputs": [],
   "source": [
    "import numpy as np\n",
    "\n",
    "from taurunner.main import run_MC\n",
    "from taurunner.body.earth import construct_earth\n",
    "from taurunner.cross_sections import CrossSections\n",
    "from taurunner.utils import make_initial_e\n",
    "\n",
    "nevents  = 5000\n",
    "eini = 1e19\n",
    "pid = 16\n",
    "xs_model = \"CSMS\"\n",
    "\n",
    "Earth = construct_earth(layers=[(4., 1.0)]) # Make Earth object with 4km water layer\n",
    "xs = CrossSections(xs_model)\n",
    "energies = make_initial_e(nevents, eini)\n",
    "thetas = np.zeros(nevents)\n",
    "\n",
    "output = run_MC(\n",
    "    energies, \n",
    "    thetas,\n",
    "    Earth, \n",
    "    xs, \n",
    ")"
   ]
  },
  {
   "cell_type": "code",
   "execution_count": 11,
   "metadata": {},
   "outputs": [
    {
     "data": {
      "image/png": "[encoded data removed]",
      "text/plain": [
       "<Figure size 540x360 with 1 Axes>"
      ]
     },
     "metadata": {
      "needs_background": "light"
     },
     "output_type": "display_data"
    }
   ],
   "source": [
    "import matplotlib.pyplot as plt\n",
    "\n",
    "pid_names = {\n",
    "    11: r'$e$', \n",
    "    12: r'$\\nu_{e}$', \n",
    "    13: r'$\\mu$', \n",
    "    14: r'$\\nu_{\\mu}$',\n",
    "    15: r'$\\tau$',\n",
    "    16: r'$\\nu_{\\tau}$'\n",
    "}\n",
    "\n",
    "bins  = np.logspace(12, 19, 75)\n",
    "zeros = output['Eout']==0.\n",
    "\n",
    "for pid, name in pid_names.items():\n",
    "    particle_msk = np.logical_and(np.abs(output['PDG_Encoding'])==pid, ~zeros)\n",
    "    # name = pid_names[pid]\n",
    "    plt.hist(\n",
    "        output['Eout'][particle_msk],\n",
    "        bins=bins,\n",
    "        label=name,\n",
    "        lw=2.,\n",
    "        histtype='step'\n",
    "    )\n",
    "    \n",
    "plt.legend(frameon=False, loc=1)\n",
    "plt.loglog()\n",
    "plt.xlabel(r'$E~\\left(\\rm{eV}\\right)$')\n",
    "plt.ylabel('Number')\n",
    "plt.show()"
   ]
  },
  {
   "cell_type": "markdown",
   "metadata": {},
   "source": [
    "## Example 5: Propagating through other bodies\n",
    "\n",
    "In addition to propagating neutrinos through the Earth, you can also propagate neutrinos through the Sun or through any object given a density profile"
   ]
  },
  {
   "cell_type": "code",
   "execution_count": 12,
   "metadata": {},
   "outputs": [],
   "source": [
    "from taurunner.body import construct_sun\n",
    "from taurunner.body import Body"
   ]
  },
  {
   "cell_type": "markdown",
   "metadata": {},
   "source": [
    "### First, through the Sun"
   ]
  },
  {
   "cell_type": "code",
   "execution_count": 13,
   "metadata": {},
   "outputs": [],
   "source": [
    "import numpy as np\n",
    "from taurunner.main import run_MC\n",
    "from taurunner.body import construct_sun\n",
    "from taurunner.cross_sections import CrossSections\n",
    "from taurunner.utils import make_initial_e, make_initial_thetas, units\n",
    "\n",
    "nevents = 5000\n",
    "eini = 1e13 # the sun is opaque at high energies\n",
    "theta = 10.0\n",
    "pid = 16\n",
    "xs_model = \"dipole\"\n",
    "solar_model = \"HZ_Sun\" # Can also be \"LZ_Sun\"\n",
    "random_seed = 925\n",
    "                                   \n",
    "xs = CrossSections(xs_model)\n",
    "energies = make_initial_e(nevents, eini)\n",
    "thetas = make_initial_thetas(nevents, theta)\n",
    "\n",
    "sun = construct_sun(solar_model)\n",
    "\n",
    "output = run_MC(\n",
    "    energies, \n",
    "    thetas, \n",
    "    sun, \n",
    "    xs,\n",
    "    seed=random_seed\n",
    ")"
   ]
  },
  {
   "cell_type": "code",
   "execution_count": 14,
   "metadata": {},
   "outputs": [
    {
     "data": {
      "image/png": "[encoded data removed]",
      "text/plain": [
       "<Figure size 540x360 with 1 Axes>"
      ]
     },
     "metadata": {
      "needs_background": "light"
     },
     "output_type": "display_data"
    }
   ],
   "source": [
    "import matplotlib.pyplot as plt\n",
    "\n",
    "bins  = np.logspace(1, 3.5, 26)\n",
    "zeros = output['Eout']==0.\n",
    "\n",
    "pid_names = {\n",
    "    11: 'r$e$', \n",
    "    12: r'$\\nu_{e}$', \n",
    "    13: r'$\\mu$', \n",
    "    14: r'$\\nu_{\\mu}$',\n",
    "    15: r'$\\tau$',\n",
    "    16: r'$\\nu_{\\tau}$'\n",
    "}\n",
    "\n",
    "\n",
    "for pid in reversed(range(12,17)):\n",
    "    particle_msk = np.logical_and(np.abs(output['PDG_Encoding'])==pid, ~zeros)\n",
    "    name = pid_names[pid]\n",
    "    plt.hist(output['Eout'][particle_msk]/units.GeV, bins=bins, label=name,\n",
    "            lw=2., histtype='step')\n",
    "    \n",
    "plt.legend(frameon=False, loc=1)\n",
    "plt.loglog()\n",
    "plt.xlabel(r'$E~\\left(\\rm{GeV}\\right)$')\n",
    "plt.ylabel('Number')\n",
    "plt.show()"
   ]
  },
  {
   "cell_type": "markdown",
   "metadata": {},
   "source": [
    "### And next, through a slab of constant density which we construct using the `Body` object and a radial trajectory"
   ]
  },
  {
   "cell_type": "code",
   "execution_count": 35,
   "metadata": {},
   "outputs": [],
   "source": [
    "import numpy as np\n",
    "\n",
    "from taurunner.body import Body\n",
    "from taurunner.main import run_MC\n",
    "from taurunner.cross_sections import CrossSections\n",
    "from taurunner.utils import make_initial_e, make_initial_thetas\n",
    "\n",
    "nevents  = 5000\n",
    "eini = 1e17\n",
    "theta = 0\n",
    "pid = 14\n",
    "xs_model = \"CSMS\"\n",
    "\n",
    "# Make body with density 3.14 g/cm^3 and radius 1000 km\n",
    "body = Body(3.14, 1e3)\n",
    "\n",
    "xs = CrossSections(xs_model)\n",
    "energies = make_initial_e(nevents, eini)\n",
    "thetas = make_initial_thetas(nevents, theta)\n",
    "\n",
    "output   = run_MC(\n",
    "    energies, \n",
    "    thetas, \n",
    "    body, \n",
    "    xs,\n",
    "    flavor=pid\n",
    ")"
   ]
  },
  {
   "cell_type": "code",
   "execution_count": 37,
   "metadata": {},
   "outputs": [
    {
     "data": {
      "image/png": "[encoded data removed]",
      "text/plain": [
       "<Figure size 540x360 with 1 Axes>"
      ]
     },
     "metadata": {
      "needs_background": "light"
     },
     "output_type": "display_data"
    }
   ],
   "source": [
    "import matplotlib.pyplot as plt\n",
    "\n",
    "bins  = np.logspace(5, 19, 26)\n",
    "zeros = output['Eout']==0.\n",
    "\n",
    "pid_names = {\n",
    "    11: 'r$e$', \n",
    "    12: r'$\\nu_{e}$', \n",
    "    13: r'$\\mu$', \n",
    "    14: r'$\\nu_{\\mu}$',\n",
    "    15: r'$\\tau$',\n",
    "    16: r'$\\nu_{\\tau}$'\n",
    "}\n",
    "\n",
    "for pid in np.unique(output['PDG_Encoding']):\n",
    "    particle_msk = np.logical_and(output['PDG_Encoding']==pid, ~zeros)\n",
    "    name = pid_names[abs(pid)]\n",
    "    plt.hist(output['Eout'][particle_msk], bins=bins, label=name,\n",
    "            lw=2., histtype='step')\n",
    "    \n",
    "plt.plot()\n",
    "plt.xlim(1e11,1e15)\n",
    "plt.legend(frameon=False, loc=1)\n",
    "plt.loglog()\n",
    "plt.xlabel(r'$E$ (eV)')\n",
    "plt.ylabel('Number')\n",
    "plt.show()"
   ]
  },
  {
   "cell_type": "markdown",
   "metadata": {},
   "source": [
    "### And next, through a layered slab\n",
    "\n",
    "The constant density slab may be generalized to a slab of multiple layers. The densities in each layer may be positive scalars, unary functions which return positive scalars, or a potentially mixed list of such objects. In this example, we show how to accomplish this latter option."
   ]
  },
  {
   "cell_type": "code",
   "execution_count": 17,
   "metadata": {},
   "outputs": [],
   "source": [
    "import numpy as np\n",
    "\n",
    "from taurunner.body import Body\n",
    "from taurunner.main import run_MC\n",
    "from taurunner.cross_sections import CrossSections\n",
    "from taurunner.utils import make_initial_e, make_initial_thetas\n",
    "\n",
    "nevents  = 1000\n",
    "eini = 1e15\n",
    "theta = 0\n",
    "pid = 16\n",
    "xs_model = \"CSMS\"\n",
    "\n",
    "# Make layered body with radius 1,000 km\n",
    "def density_f(x):\n",
    "    return x**-2/4\n",
    "densities  = [4, density_f, 1, 0.4]\n",
    "boundaries = [0.25, 0.3, 0.5, 1] # Right hand boundaries of the layers last boundary should always be 1\n",
    "body = Body([(d, b) for d, b in zip(densities, boundaries)], 1e3)\n",
    "\n",
    "xs = CrossSections(xs_model)\n",
    "energies = make_initial_e(nevents, eini)\n",
    "thetas = make_initial_thetas(nevents, theta)\n",
    "\n",
    "output = run_MC(\n",
    "    energies, \n",
    "    thetas, \n",
    "    body, \n",
    "    xs,\n",
    ")"
   ]
  },
  {
   "cell_type": "code",
   "execution_count": 18,
   "metadata": {},
   "outputs": [
    {
     "data": {
      "image/png": "[encoded data removed]",
      "text/plain": [
       "<Figure size 540x360 with 1 Axes>"
      ]
     },
     "metadata": {
      "needs_background": "light"
     },
     "output_type": "display_data"
    }
   ],
   "source": [
    "import matplotlib.pyplot as plt\n",
    "\n",
    "bins  = np.logspace(12.5, 19, 26)\n",
    "zeros = output['Eout']==0.\n",
    "\n",
    "pid_names = {\n",
    "    11: 'r$e$', \n",
    "    12: r'$\\nu_{e}$', \n",
    "    13: r'$\\mu$', \n",
    "    14: r'$\\nu_{\\mu}$',\n",
    "    15: r'$\\tau$',\n",
    "    16: r'$\\nu_{\\tau}$'\n",
    "}\n",
    "\n",
    "\n",
    "for pid in reversed(range(12,17)):\n",
    "    particle_msk = np.logical_and(np.abs(output['PDG_Encoding'])==pid, ~zeros)\n",
    "    name = pid_names[pid]\n",
    "    plt.hist(output['Eout'][particle_msk], bins=bins, label=name,\n",
    "            lw=2., histtype='step')\n",
    "    \n",
    "plt.legend(frameon=False, loc=1)\n",
    "plt.loglog()\n",
    "plt.xlabel(r'$E$ (eV)')\n",
    "plt.ylabel('Number')\n",
    "plt.show()"
   ]
  },
  {
   "cell_type": "markdown",
   "metadata": {},
   "source": [
    "## Example 4: Running from the command line"
   ]
  },
  {
   "cell_type": "markdown",
   "metadata": {},
   "source": [
    "As is described more thoroughly in the `README`, `taurunner` can also be called from the command line, an example of which is shown inline below"
   ]
  },
  {
   "cell_type": "code",
   "execution_count": 19,
   "metadata": {},
   "outputs": [
    {
     "name": "stdout",
     "output_type": "stream",
     "text": [
      "Outgoing Particles: \n",
      "[(1.00000000e+18, 3.60696282e+13, 0., 5, 3,  16,  0, 1.        )\n",
      " (1.00000000e+18, 6.52817248e+13, 0., 4, 3,  16,  1, 1.        )\n",
      " (1.00000000e+18, 2.97812586e+12, 0., 4, 2,  16,  2, 1.        )\n",
      " (1.00000000e+18, 3.54259968e+13, 0., 5, 1,  16,  3, 1.        )\n",
      " (1.00000000e+18, 3.58455623e+13, 0., 5, 4,  16,  4, 1.        )\n",
      " (1.00000000e+18, 7.81905964e+14, 0., 2, 3,  16,  5, 1.        )\n",
      " (1.00000000e+18, 1.03874385e+14, 0., 3, 1,  16,  6, 1.        )\n",
      " (1.00000000e+18, 3.97464616e+12, 0., 4, 3,  16,  7, 1.        )\n",
      " (1.00000000e+18, 1.42108720e+13, 0., 4, 3,  16,  8, 1.        )\n",
      " (1.00000000e+18, 1.93375142e+13, 0., 4, 1,  16,  9, 1.        )\n",
      " (1.00000000e+18, 1.04331754e+13, 0., 3, 4,  16, 10, 1.        )\n",
      " (1.00000000e+18, 7.35681646e+12, 0., 4, 0,  16, 11, 1.        )\n",
      " (1.00000000e+18, 1.63651877e+13, 0., 6, 2,  16, 12, 1.        )\n",
      " (1.00000000e+18, 7.04832261e+13, 0., 4, 3,  16, 13, 1.        )\n",
      " (1.00000000e+18, 3.97732893e+14, 0., 3, 1,  16, 14, 1.        )\n",
      " (1.00000000e+18, 8.17854799e+13, 0., 3, 0,  16, 15, 1.        )\n",
      " (1.00000000e+18, 6.65566697e+13, 0., 3, 3,  16, 16, 1.        )\n",
      " (1.00000000e+18, 1.78176107e+14, 0., 3, 0,  16, 17, 1.        )\n",
      " (1.00000000e+18, 2.84946456e+13, 0., 6, 4,  16, 18, 1.        )\n",
      " (1.00000000e+18, 5.19940107e+12, 0., 6, 3,  16, 19, 1.        )\n",
      " (1.07217905e+13, 1.07217905e+13, 0., 0, 0, -12,  0, 1.        )\n",
      " (7.69787482e+16, 0.00000000e+00, 0., 1, 1, -13,  1, 0.0538463 )\n",
      " (2.11543493e+15, 0.00000000e+00, 0., 1, 1, -11,  1, 0.60308185)\n",
      " (1.24139397e+14, 0.00000000e+00, 0., 1, 0, -11,  1, 0.76811241)\n",
      " (1.15125621e+16, 0.00000000e+00, 0., 1, 1, -11,  3, 0.24551446)\n",
      " (3.85396209e+15, 0.00000000e+00, 0., 1, 0, -11,  3, 0.2955982 )\n",
      " (6.04045534e+16, 0.00000000e+00, 0., 1, 0, -11,  4, 0.1148077 )\n",
      " (1.21764348e+15, 0.00000000e+00, 0., 1, 0, -11,  4, 0.26089979)\n",
      " (5.66172049e+14, 0.00000000e+00, 0., 1, 0, -11,  4, 0.57131555)\n",
      " (7.99653407e+15, 0.00000000e+00, 0., 1, 0, -13,  5, 0.2372211 )\n",
      " (8.95649828e+14, 0.00000000e+00, 0., 1, 0, -13,  5, 0.5572888 )\n",
      " (4.45639805e+16, 0.00000000e+00, 0., 1, 0, -11,  6, 0.10663458)\n",
      " (1.35427821e+16, 0.00000000e+00, 0., 1, 0, -13,  7, 0.09207919)\n",
      " (2.51925062e+15, 0.00000000e+00, 0., 1, 2, -13,  7, 0.48339074)\n",
      " (4.01868830e+16, 0.00000000e+00, 0., 1, 1, -11,  8, 0.14564503)\n",
      " (3.79224698e+16, 0.00000000e+00, 0., 1, 0, -11, 10, 0.05200008)\n",
      " (3.47657301e+13, 3.47657301e+13, 0., 0, 0, -12, 10, 1.        )\n",
      " (1.23461914e+11, 1.23461914e+11, 0., 0, 0, -12, 11, 1.        )\n",
      " (4.04621986e+15, 0.00000000e+00, 0., 1, 0, -11, 12, 0.04937199)\n",
      " (1.05764581e+15, 0.00000000e+00, 0., 1, 0, -13, 13, 0.30136431)\n",
      " (1.24560153e+14, 3.76555188e+13, 0., 0, 1, -12, 14, 1.        )\n",
      " (4.43245956e+14, 0.00000000e+00, 0., 1, 0, -11, 15, 0.66408339)\n",
      " (2.54350731e+16, 0.00000000e+00, 0., 1, 0, -13, 16, 0.12768364)\n",
      " (2.62444933e+14, 0.00000000e+00, 0., 1, 0, -13, 18, 0.49994898)\n",
      " (1.30131099e+15, 0.00000000e+00, 0., 1, 2, -11, 19, 0.33960103)]\n"
     ]
    }
   ],
   "source": [
    "!python ../taurunner/main.py -n 20 -t 0.0 -e 1e18"
   ]
  },
  {
   "cell_type": "code",
   "execution_count": null,
   "metadata": {},
   "outputs": [],
   "source": []
  }
 ],
 "metadata": {
  "kernelspec": {
   "display_name": "Python 3 (ipykernel)",
   "language": "python",
   "name": "python3"
  },
  "language_info": {
   "codemirror_mode": {
    "name": "ipython",
    "version": 3
   },
   "file_extension": ".py",
   "mimetype": "text/x-python",
   "name": "python",
   "nbconvert_exporter": "python",
   "pygments_lexer": "ipython3",
   "version": "3.10.6"
  }
 },
 "nbformat": 4,
 "nbformat_minor": 4
}
