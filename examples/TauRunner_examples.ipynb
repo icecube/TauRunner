{
 "cells": [
  {
   "cell_type": "markdown",
   "metadata": {},
   "source": [
    "## TauRunner\n",
    "\n",
    "Welcome to the TauRunner tutorial! This software is capable of simulating neutrinos (and anti-neutrinos) of all flavors, accounting for tau regeneration and losses in the nutau channel. The output is a set of particle energies, number of interactions, angle, and particle type.\n",
    "\n",
    "The user has the option to propagate:\n",
    "1. monochromatic fluxes\n",
    "2. power-law fluxes\n",
    "3. Any provided arbitrary flux by means of sampling from a cdf. \n",
    "\n",
    "All of these can be propagated through either:\n",
    "1. a fixed angle\n",
    "2. a range of angles\n",
    "3. uniformly sampled angles in the sky. \n",
    "\n",
    "In terms of astrophysical bodies, we provide implementations for the Earth and Sun with capabilities of adding additional layers and changing the detector depth. In addition, we will demonstrate how to define any astrophysical object, or a slab of constant density to propagate through. All of these capabilities will be shown in the following examples. Happy running!"
   ]
  },
  {
   "cell_type": "markdown",
   "metadata": {},
   "source": [
    "## Example 1: Monochromatic flux through single angle in Earth ##\n",
    "\n",
    "The main function that runs the monte carlo is called `run_MC` and required a few arguments, which we show you how to create below\n",
    "* `energies`: An array of initial particle energies in eV\n",
    "* `thetas`: A corresponding array of initial nadir angles in radians\n",
    "* `body`: The body which we are propagating through (Earth, Sun, custom, etc.)\n",
    "* `xs`: a CrossSections object which is based on a certain cross section model\n",
    "* `propagator`: PROPOSAL propagator object for charged lepton propagation"
   ]
  },
  {
   "cell_type": "code",
   "execution_count": 4,
   "metadata": {},
   "outputs": [],
   "source": [
    "import numpy as np\n",
    "\n",
    "from taurunner.main import run_MC\n",
    "from taurunner.body.earth import construct_earth\n",
    "from taurunner.cross_sections import CrossSections\n",
    "from taurunner.utils import make_propagator, make_initial_e, make_initial_thetas\n",
    "\n",
    "nevents  = 5000 # number of events to simulate\n",
    "eini     = 1e19 # initial energy in GeV\n",
    "theta    = 89.0 # incidence angle (nadir)\n",
    "pid      = 16 # PDG MC Encoding particle ID (nutau)\n",
    "xs_model = \"CSMS\" # neutrino cross section model \n",
    "\n",
    "Earth    = construct_earth(layers=[(4., 1.0)]) # Make Earth object with 4km water layer\n",
    "xs       = CrossSections(xs_model)\n",
    "energies = make_initial_e(nevents, eini) # Return array of initial energies in eV\n",
    "thetas   = make_initial_thetas(nevents, theta)\n",
    "\n",
    "tau_prop = make_propagator(pid, Earth)\n",
    "rand     = np.random.RandomState(seed=7)\n",
    "\n",
    "output = run_MC(energies, \n",
    "                thetas, \n",
    "                Earth, \n",
    "                xs,\n",
    "                tau_prop, \n",
    "                rand,\n",
    "         )"
   ]
  },
  {
   "cell_type": "code",
   "execution_count": 5,
   "metadata": {},
   "outputs": [
    {
     "data": {
      "image/png": "[encoded data removed]",
      "text/plain": [
       "<Figure size 540x360 with 1 Axes>"
      ]
     },
     "metadata": {
      "needs_background": "light"
     },
     "output_type": "display_data"
    }
   ],
   "source": [
    "import matplotlib.pyplot as plt\n",
    "plt.style.use('../paper.mplstyle')\n",
    "\n",
    "pid_names = {\n",
    "    11: 'r$e$', \n",
    "    12: r'$\\nu_{e}$', \n",
    "    13: r'$\\mu$', \n",
    "    14: r'$\\nu_{\\mu}$',\n",
    "    15: r'$\\tau$',\n",
    "    16: r'$\\nu_{\\tau}$'\n",
    "}\n",
    "\n",
    "bins  = np.logspace(12, 19, 75)\n",
    "zeros = output['Eout']==0.\n",
    "\n",
    "for pid in reversed(range(12,17)):\n",
    "    particle_msk = np.logical_and(np.abs(output['PDG_Encoding'])==pid, ~zeros)\n",
    "    name = pid_names[pid]\n",
    "    plt.hist(output['Eout'][particle_msk], bins=bins, label=name,\n",
    "            lw=2., histtype='step')\n",
    "    \n",
    "plt.legend(frameon=False, loc=2)\n",
    "plt.loglog()\n",
    "plt.xlabel(r'$E~\\left(\\rm{eV}\\right)$')\n",
    "plt.ylabel('Number')\n",
    "plt.show()"
   ]
  },
  {
   "cell_type": "markdown",
   "metadata": {},
   "source": [
    "## Example 2: Power law flux\n",
    "\n",
    "`taurunner` also provides helper functions to propagate other spectral shapes, such as power laws or pre-loaded models of cosmogenic neutrinos"
   ]
  },
  {
   "cell_type": "code",
   "execution_count": 12,
   "metadata": {},
   "outputs": [],
   "source": [
    "import numpy as np\n",
    "\n",
    "from taurunner.main import run_MC\n",
    "from taurunner.body.earth import construct_earth\n",
    "from taurunner.cross_sections import CrossSections\n",
    "from taurunner.utils import make_propagator, make_initial_e, make_initial_thetas\n",
    "\n",
    "nevents        = 10 # number of events to simulate  \n",
    "pid            = 16\n",
    "xs_model       = \"CSMS\"\n",
    "no_secondaries = True\n",
    "\n",
    "Earth = construct_earth(layers=[(4., 1.0)])\n",
    "xs    = CrossSections(xs_model)\n",
    "rand  = np.random.RandomState(seed=7)\n",
    "\n",
    "# Sample power-law with index -2 between 1e6 GeV and 1e12 GeV\n",
    "pl_exp   = -2 # power law exponent\n",
    "e_min    = 1e6 # Minimum energy to sample in GeV\n",
    "e_max    = 1e12 # Maximum energy to sample in GeV\n",
    "energies = make_initial_e(nevents,\n",
    "                          pl_exp, \n",
    "                          e_min=1e15, \n",
    "                          e_max=1e21, \n",
    "                          rand=rand\n",
    "                         )\n",
    "\n",
    "# Sample uniform in solid angle over hemisphere                    \n",
    "th_min = 0 # Minimum nadir angle to sample from\n",
    "th_max = 90 # Maximum nadir angle to sample from\n",
    "thetas = make_initial_thetas(nevents, \n",
    "                             (th_min, th_max), \n",
    "                             rand=rand\n",
    "                            )\n",
    "\n",
    "# tracks   = make_tracks(thetas)\n",
    "tau_prop = make_propagator(pid, Earth)\n",
    "\n",
    "\n",
    "output = run_MC(energies, \n",
    "                thetas, \n",
    "                Earth, \n",
    "                xs, \n",
    "                tau_prop, \n",
    "                rand,\n",
    "                no_secondaries=no_secondaries\n",
    "               )"
   ]
  },
  {
   "cell_type": "markdown",
   "metadata": {},
   "source": [
    "Here, we are choosing to propagate an $E^{-2}$ spectrum over an entire hemisphere. \n",
    "There are some additional keyword arguments that allow the user to turn off tau energy losses (which are less important for more steeply inclined angles) or ignore secondary particles"
   ]
  },
  {
   "cell_type": "code",
   "execution_count": 13,
   "metadata": {},
   "outputs": [
    {
     "data": {
      "text/plain": [
       "array([(1.08261220e+15, 5.89531024e+14, 71.29050216, 0, 1, 16, 0, 1.),\n",
       "       (4.54376122e+15, 4.18573281e+14, 78.68160499, 2, 0, 16, 1, 1.),\n",
       "       (1.78065466e+15, 2.01561186e+14, 51.75255953, 2, 0, 16, 2, 1.),\n",
       "       (3.61617165e+15, 2.58058249e+10, 20.92260565, 3, 1, 16, 3, 1.),\n",
       "       (4.54308677e+16, 1.02253292e+15, 44.61400454, 2, 2, 16, 4, 1.),\n",
       "       (2.16682532e+15, 2.16682532e+15, 84.81300843, 0, 0, 16, 5, 1.),\n",
       "       (2.00448991e+15, 1.78378703e+14, 38.1297391 , 1, 0, 16, 6, 1.),\n",
       "       (1.07764550e+15, 2.52171698e+14, 56.77857801, 1, 0, 16, 7, 1.),\n",
       "       (1.36693947e+15, 1.36693947e+15, 86.05527962, 0, 0, 16, 8, 1.),\n",
       "       (1.99952812e+15, 7.81343307e+14, 12.81255794, 1, 3, 16, 9, 1.)],\n",
       "      dtype=[('Eini', '<f8'), ('Eout', '<f8'), ('Theta', '<f8'), ('nCC', '<i8'), ('nNC', '<i8'), ('PDG_Encoding', '<i8'), ('primary_tau', '<i8'), ('final_position', '<f8')])"
      ]
     },
     "execution_count": 13,
     "metadata": {},
     "output_type": "execute_result"
    }
   ],
   "source": [
    "output"
   ]
  },
  {
   "cell_type": "code",
   "execution_count": null,
   "metadata": {},
   "outputs": [],
   "source": [
    "import matplotlib.pyplot as plt\n",
    "plt.style.use('../paper.mplstyle')\n",
    "from matplotlib.colors import LogNorm\n",
    "\n",
    "bins  = np.logspace(12, 19, 75)\n",
    "zeros = output['Eout']==0.\n",
    "nutau_msk = np.logical_and(np.abs(output['PDG_Encoding'])==16, ~zeros)\n",
    "plt.hist2d(\n",
    "    output['Eini'][nutau_msk], \n",
    "    np.cos(np.radians(output['Theta'][nutau_msk])), \n",
    "    bins=[np.logspace(12., 17., 21), \n",
    "          np.linspace(0., 1., 21)],\n",
    "    norm=LogNorm()\n",
    ")\n",
    "\n",
    "plt.xscale('log')\n",
    "plt.xlabel(r'$E_{\\rm{initial}}~(\\rm{eV})$')\n",
    "plt.ylabel(r'$\\cos(\\theta)$')\n",
    "plt.title(\"Initial Energy Distribution\")\n",
    "plt.show()"
   ]
  },
  {
   "cell_type": "code",
   "execution_count": null,
   "metadata": {},
   "outputs": [],
   "source": [
    "from matplotlib.colors import LogNorm\n",
    "\n",
    "bins  = np.logspace(12, 19, 75)\n",
    "zeros = output['Eout']==0.\n",
    "nutau_msk = np.logical_and(np.abs(output['PDG_Encoding'])==16, ~zeros)\n",
    "plt.hist2d(\n",
    "    output['Eout'][nutau_msk], \n",
    "    np.cos(np.radians(output['Theta'][nutau_msk])), \n",
    "    bins=[np.logspace(12., 17., 21), \n",
    "          np.linspace(0., 1., 21)],\n",
    "    norm=LogNorm()\n",
    ")\n",
    "\n",
    "plt.xscale('log')\n",
    "plt.xlabel(r'$E_{\\rm{final}}~(\\rm{eV})$')\n",
    "plt.ylabel(r'$\\cos(\\theta)$')\n",
    "plt.title(\"Final Energy Distribution\")\n",
    "plt.show()"
   ]
  },
  {
   "cell_type": "markdown",
   "metadata": {},
   "source": [
    "Here, it is evident that the neutrinos that were propagated through more Earth (larger $\\cos(\\theta)$) exit the Earth at much lower energies than the neutrinos that were able to pass through skimming trajectories undergoing few, if any, interactions\n",
    "\n",
    "We can also look at the one-dimensional energy spectra"
   ]
  },
  {
   "cell_type": "code",
   "execution_count": null,
   "metadata": {},
   "outputs": [],
   "source": [
    "zeros = output['Eout']==0.\n",
    "\n",
    "for pid in reversed(range(12,17)):\n",
    "    particle_msk = np.logical_and(np.abs(output['PDG_Encoding'])==pid, ~zeros)\n",
    "    name = pid_names[pid]\n",
    "    plt.hist(output['Eout'][particle_msk], bins=bins, label=name,\n",
    "             lw=2., histtype='step')\n",
    "    \n",
    "plt.legend(frameon=False, loc=1)\n",
    "plt.loglog()\n",
    "plt.xlabel(r'$E$ (eV)')\n",
    "plt.ylabel('Number')\n",
    "plt.show()"
   ]
  },
  {
   "cell_type": "markdown",
   "metadata": {},
   "source": [
    "Notice how there are only tau neutrinos because we chose to not propagate any secondary particles. "
   ]
  },
  {
   "cell_type": "markdown",
   "metadata": {},
   "source": [
    "## Example 3: Propagating a custom flux through Earth\n",
    "\n",
    "`taurunner` allows the user to supply CDFs in energy to be samlped from. Here we show an example of sampling from a GZK model. An example of how to create these CDFs is given in `make_flux_CDF.ipynb`"
   ]
  },
  {
   "cell_type": "code",
   "execution_count": 9,
   "metadata": {},
   "outputs": [
    {
     "name": "stdout",
     "output_type": "stream",
     "text": [
      "10\n",
      "10\n"
     ]
    }
   ],
   "source": [
    "import numpy as np\n",
    "\n",
    "import taurunner as tr\n",
    "from taurunner.main import run_MC\n",
    "from taurunner.body.earth import construct_earth\n",
    "from taurunner.cross_sections import CrossSections\n",
    "from taurunner.utils import make_propagator, make_initial_e, make_initial_thetas\n",
    "\n",
    "nevents  = 5000\n",
    "pid      = 16\n",
    "xs_model = \"CSMS\"\n",
    "\n",
    "Earth    = construct_earth(layers=[(4., 1.0)])\n",
    "xs       = CrossSections(xs_model)\n",
    "\n",
    "tau_prop = make_propagator(pid, Earth)\n",
    "rand     = np.random.RandomState(seed=7)\n",
    "\n",
    "# Sample from pickled CDF\n",
    "pkl_f    = f'{tr.__path__[0]}/resources/ahlers2010_' # Path to pickle file with CDF to sample from\n",
    "energies = make_initial_e(nevents,\n",
    "                          pkl_f, \n",
    "                          rand=rand\n",
    ")\n",
    "                         \n",
    "# Sample uniform in solid angle over hemisphere   \n",
    "th_min = 0 # Minimum nadir angle to sample from\n",
    "th_max = 90 # Maximum nadir angle to sample from  \n",
    "thetas = make_initial_thetas(nevents, \n",
    "                             (th_min, th_max), \n",
    "                             rand=rand\n",
    ")\n",
    "\n",
    "output = run_MC(energies, \n",
    "                thetas, \n",
    "                Earth, \n",
    "                xs, \n",
    "                tau_prop, \n",
    "                rand\n",
    ")"
   ]
  },
  {
   "cell_type": "code",
   "execution_count": 10,
   "metadata": {},
   "outputs": [
    {
     "data": {
      "image/png": "[encoded data removed]",
      "text/plain": [
       "<Figure size 540x360 with 1 Axes>"
      ]
     },
     "metadata": {
      "needs_background": "light"
     },
     "output_type": "display_data"
    }
   ],
   "source": [
    "import matplotlib.pyplot as plt\n",
    "plt.style.use('../paper.mplstyle')\n",
    "from matplotlib.colors import LogNorm\n",
    "\n",
    "bins  = np.logspace(12, 19, 75)\n",
    "zeros = output['Eout']==0.\n",
    "nutau_msk = np.logical_and(np.abs(output['PDG_Encoding'])==16, ~zeros)\n",
    "plt.hist2d(\n",
    "    output['Eini'][nutau_msk], \n",
    "    np.cos(np.radians(output['Theta'][nutau_msk])), \n",
    "    bins=[np.logspace(12., 19., 27), \n",
    "          np.linspace(0., 1., 21)],\n",
    "    norm=LogNorm()\n",
    ")\n",
    "\n",
    "plt.xscale('log')\n",
    "plt.xlabel(r'$E_{\\rm{initial}}$ (eV)')\n",
    "plt.ylabel(r'$\\cos(\\theta)$')\n",
    "plt.title(\"Initial Energy Distribution\")\n",
    "plt.show()"
   ]
  },
  {
   "cell_type": "code",
   "execution_count": 11,
   "metadata": {},
   "outputs": [
    {
     "data": {
      "image/png": "[encoded data removed]",
      "text/plain": [
       "<Figure size 540x360 with 1 Axes>"
      ]
     },
     "metadata": {
      "needs_background": "light"
     },
     "output_type": "display_data"
    }
   ],
   "source": [
    "from matplotlib.colors import LogNorm\n",
    "\n",
    "bins  = np.logspace(12, 19, 75)\n",
    "zeros = output['Eout']==0.\n",
    "nutau_msk = np.logical_and(np.abs(output['PDG_Encoding'])==16, ~zeros)\n",
    "plt.hist2d(\n",
    "    output['Eout'][nutau_msk], \n",
    "    np.cos(np.radians(output['Theta'][nutau_msk])), \n",
    "    bins=[np.logspace(12., 19., 27), \n",
    "          np.linspace(0., 1., 21)],\n",
    "    norm=LogNorm()\n",
    ")\n",
    "\n",
    "plt.xscale('log')\n",
    "plt.xlabel(r'$E_{\\rm{final}}$ (eV)')\n",
    "plt.ylabel(r'$\\cos(\\theta)$')\n",
    "plt.title(\"Final Energy Distribution\")\n",
    "plt.show()"
   ]
  },
  {
   "cell_type": "markdown",
   "metadata": {},
   "source": [
    "## Example 4: Radial trajectories\n",
    "\n",
    "TauRunner supports custom trajectories besides chords. TauRunner includes a radial trajectory which moves radially outward from the center of the body"
   ]
  },
  {
   "cell_type": "code",
   "execution_count": 23,
   "metadata": {},
   "outputs": [],
   "source": [
    "import numpy as np\n",
    "\n",
    "from taurunner.main import run_MC\n",
    "from taurunner.body.earth import construct_earth\n",
    "from taurunner.cross_sections import CrossSections\n",
    "from taurunner.utils import make_propagator, make_initial_e\n",
    "\n",
    "nevents  = 5000\n",
    "eini     = 1e10\n",
    "pid      = 16\n",
    "xs_model = \"CSMS\"\n",
    "\n",
    "Earth    = construct_earth(layers=[(4., 1.0)]) # Make Earth object with 4km water layer\n",
    "xs       = CrossSections(xs_model)\n",
    "energies = make_initial_e(nevents, eini)\n",
    "thetas   = np.zeros(nevents)\n",
    "\n",
    "tau_prop = make_propagator(pid, Earth)\n",
    "rand     = np.random.RandomState(seed=7)\n",
    "\n",
    "output = run_MC(energies, \n",
    "                thetas,\n",
    "                Earth, \n",
    "                xs, \n",
    "                tau_prop, \n",
    "                rand,\n",
    ")"
   ]
  },
  {
   "cell_type": "code",
   "execution_count": 24,
   "metadata": {},
   "outputs": [
    {
     "data": {
      "image/png": "[encoded data removed]",
      "text/plain": [
       "<Figure size 540x360 with 1 Axes>"
      ]
     },
     "metadata": {
      "needs_background": "light"
     },
     "output_type": "display_data"
    }
   ],
   "source": [
    "import matplotlib.pyplot as plt\n",
    "plt.style.use('../paper.mplstyle')\n",
    "\n",
    "pid_names = {\n",
    "    11: 'r$e$', \n",
    "    12: r'$\\nu_{e}$', \n",
    "    13: r'$\\mu$', \n",
    "    14: r'$\\nu_{\\mu}$',\n",
    "    15: r'$\\tau$',\n",
    "    16: r'$\\nu_{\\tau}$'\n",
    "}\n",
    "\n",
    "bins  = np.logspace(12, 19, 75)\n",
    "zeros = output['Eout']==0.\n",
    "\n",
    "for pid in reversed(range(12,17)):\n",
    "    particle_msk = np.logical_and(np.abs(output['PDG_Encoding'])==pid, ~zeros)\n",
    "    name = pid_names[pid]\n",
    "    plt.hist(output['Eout'][particle_msk], bins=bins, label=name,\n",
    "            lw=2., histtype='step')\n",
    "    \n",
    "plt.legend(frameon=False, loc=1)\n",
    "plt.loglog()\n",
    "plt.xlabel(r'$E~\\left(\\rm{eV}\\right)$')\n",
    "plt.ylabel('Number')\n",
    "plt.show()"
   ]
  },
  {
   "cell_type": "markdown",
   "metadata": {},
   "source": [
    "## Example 4: Propagating through other bodies\n",
    "\n",
    "In addition to propagating neutrinos through the Earth, you can also propagate neutrinos through the Sun or through any object given a density profile"
   ]
  },
  {
   "cell_type": "code",
   "execution_count": 12,
   "metadata": {},
   "outputs": [],
   "source": [
    "from taurunner.body import construct_sun\n",
    "from taurunner.body import Body"
   ]
  },
  {
   "cell_type": "markdown",
   "metadata": {},
   "source": [
    "### First, through the Sun"
   ]
  },
  {
   "cell_type": "code",
   "execution_count": 21,
   "metadata": {},
   "outputs": [],
   "source": [
    "import numpy as np\n",
    "from taurunner.main import run_MC\n",
    "from taurunner.body import construct_sun\n",
    "from taurunner.cross_sections import CrossSections\n",
    "from taurunner.utils import make_propagator, make_initial_e, make_initial_thetas\n",
    "\n",
    "nevents     = 1000\n",
    "eini        = 1e4 # the sun is opaque at high energies\n",
    "theta       = 10.0\n",
    "pid         = 16\n",
    "xs_model    = \"dipole\"\n",
    "solar_model = \"HZ_Sun\" # Can also be \"LZ_Sun\"\n",
    "                                   \n",
    "xs       = CrossSections(xs_model)\n",
    "energies = make_initial_e(nevents, eini)\n",
    "thetas   = make_initial_thetas(nevents, theta)\n",
    "\n",
    "sun      = construct_sun(solar_model)\n",
    "tau_prop = make_propagator(pid, sun, granularity=0.5) \n",
    "rand     = np.random.RandomState(seed=7)\n",
    "\n",
    "output = run_MC(energies, \n",
    "                thetas, \n",
    "                sun, \n",
    "                xs, \n",
    "                tau_prop, \n",
    "                rand\n",
    ")"
   ]
  },
  {
   "cell_type": "code",
   "execution_count": 20,
   "metadata": {},
   "outputs": [
    {
     "data": {
      "image/png": "[encoded data removed]",
      "text/plain": [
       "<Figure size 540x360 with 1 Axes>"
      ]
     },
     "metadata": {
      "needs_background": "light"
     },
     "output_type": "display_data"
    }
   ],
   "source": [
    "import matplotlib.pyplot as plt\n",
    "plt.style.use('../paper.mplstyle')\n",
    "\n",
    "bins  = np.logspace(10, 12.5, 26)\n",
    "zeros = output['Eout']==0.\n",
    "\n",
    "pid_names = {\n",
    "    11: 'r$e$', \n",
    "    12: r'$\\nu_{e}$', \n",
    "    13: r'$\\mu$', \n",
    "    14: r'$\\nu_{\\mu}$',\n",
    "    15: r'$\\tau$',\n",
    "    16: r'$\\nu_{\\tau}$'\n",
    "}\n",
    "\n",
    "\n",
    "for pid in reversed(range(12,17)):\n",
    "    particle_msk = np.logical_and(np.abs(output['PDG_Encoding'])==pid, ~zeros)\n",
    "    name = pid_names[pid]\n",
    "    plt.hist(output['Eout'][particle_msk], bins=bins, label=name,\n",
    "            lw=2., histtype='step')\n",
    "    \n",
    "plt.legend(frameon=False, loc=1)\n",
    "plt.loglog()\n",
    "plt.xlabel(r'$E$ (eV)')\n",
    "plt.ylabel('Number')\n",
    "plt.show()"
   ]
  },
  {
   "cell_type": "markdown",
   "metadata": {},
   "source": [
    "### And next, through a slab of constant density which we construct using the `Body` object and a radial trajectory"
   ]
  },
  {
   "cell_type": "code",
   "execution_count": 3,
   "metadata": {},
   "outputs": [],
   "source": [
    "import numpy as np\n",
    "\n",
    "from taurunner.body import Body\n",
    "from taurunner.main import run_MC\n",
    "from taurunner.cross_sections import CrossSections\n",
    "from taurunner.utils import make_propagator, make_initial_e, make_initial_thetas\n",
    "\n",
    "nevents  = 5000\n",
    "eini     = 1e10\n",
    "theta    = 0\n",
    "pid      = 16\n",
    "xs_model = \"CSMS\"\n",
    "\n",
    "# Make body with density 3.14 g/cm^3 and radius 1000 km\n",
    "body     = Body(3.14, 1e3)\n",
    "\n",
    "xs       = CrossSections(xs_model)\n",
    "energies = make_initial_e(nevents, eini)\n",
    "thetas   = make_initial_thetas(nevents, theta)\n",
    "\n",
    "tau_prop = make_propagator(pid, body)\n",
    "rand     = np.random.RandomState(seed=7)\n",
    "\n",
    "output   = run_MC(energies, \n",
    "                  thetas, \n",
    "                  body, \n",
    "                  xs, \n",
    "                  tau_prop, \n",
    "                  rand\n",
    ")"
   ]
  },
  {
   "cell_type": "code",
   "execution_count": 4,
   "metadata": {},
   "outputs": [
    {
     "data": {
      "image/png": "[encoded data removed]",
      "text/plain": [
       "<Figure size 540x360 with 1 Axes>"
      ]
     },
     "metadata": {
      "needs_background": "light"
     },
     "output_type": "display_data"
    }
   ],
   "source": [
    "import matplotlib.pyplot as plt\n",
    "plt.style.use('../paper.mplstyle')\n",
    "\n",
    "bins  = np.logspace(12.5, 19, 26)\n",
    "zeros = output['Eout']==0.\n",
    "\n",
    "pid_names = {\n",
    "    11: 'r$e$', \n",
    "    12: r'$\\nu_{e}$', \n",
    "    13: r'$\\mu$', \n",
    "    14: r'$\\nu_{\\mu}$',\n",
    "    15: r'$\\tau$',\n",
    "    16: r'$\\nu_{\\tau}$'\n",
    "}\n",
    "\n",
    "for pid in reversed(range(12,17)):\n",
    "    particle_msk = np.logical_and(np.abs(output['PDG_Encoding'])==pid, ~zeros)\n",
    "    name = pid_names[pid]\n",
    "    plt.hist(output['Eout'][particle_msk], bins=bins, label=name,\n",
    "            lw=2., histtype='step')\n",
    "    \n",
    "plt.legend(frameon=False, loc=1)\n",
    "plt.loglog()\n",
    "plt.xlabel(r'$E$ (eV)')\n",
    "plt.ylabel('Number')\n",
    "plt.show()"
   ]
  },
  {
   "cell_type": "markdown",
   "metadata": {},
   "source": [
    "### And next, through a layered slab\n",
    "\n",
    "The constant density slab may be generalized to a slab of multiple layers. The densities in each layer may be positive scalars, unary functions which return positive scalars, or a potentially mixed list of such objects. In this example, we show how to accomplish this latter option."
   ]
  },
  {
   "cell_type": "code",
   "execution_count": 5,
   "metadata": {},
   "outputs": [
    {
     "name": "stdout",
     "output_type": "stream",
     "text": [
      "0.40751363673860397\n",
      "0.06918644208291146\n",
      "0.2979368613360152\n",
      "0.7478023140124742\n"
     ]
    },
    {
     "ename": "IndexError",
     "evalue": "list index out of range",
     "output_type": "error",
     "traceback": [
      "\u001b[0;31m---------------------------------------------------------------------------\u001b[0m",
      "\u001b[0;31mIndexError\u001b[0m                                Traceback (most recent call last)",
      "\u001b[0;32m<ipython-input-5-12b64f6fffc0>\u001b[0m in \u001b[0;36m<module>\u001b[0;34m\u001b[0m\n\u001b[1;32m     31\u001b[0m                 \u001b[0mxs\u001b[0m\u001b[0;34m,\u001b[0m\u001b[0;34m\u001b[0m\u001b[0;34m\u001b[0m\u001b[0m\n\u001b[1;32m     32\u001b[0m                 \u001b[0mtau_prop\u001b[0m\u001b[0;34m,\u001b[0m\u001b[0;34m\u001b[0m\u001b[0;34m\u001b[0m\u001b[0m\n\u001b[0;32m---> 33\u001b[0;31m                 \u001b[0mrand\u001b[0m\u001b[0;34m\u001b[0m\u001b[0;34m\u001b[0m\u001b[0m\n\u001b[0m\u001b[1;32m     34\u001b[0m )\n",
      "\u001b[0;32m/data/user/jlazar/TauRunner/taurunner/main.py\u001b[0m in \u001b[0;36mrun_MC\u001b[0;34m(eini, thetas, body, xs, propagator, rand, no_secondaries, flavor, no_losses, condition, depth, track_type)\u001b[0m\n\u001b[1;32m    210\u001b[0m         )\n\u001b[1;32m    211\u001b[0m \u001b[0;34m\u001b[0m\u001b[0m\n\u001b[0;32m--> 212\u001b[0;31m         \u001b[0mout\u001b[0m      \u001b[0;34m=\u001b[0m \u001b[0mPropagate\u001b[0m\u001b[0;34m(\u001b[0m\u001b[0mparticle\u001b[0m\u001b[0;34m,\u001b[0m \u001b[0mmy_track\u001b[0m\u001b[0;34m,\u001b[0m \u001b[0mbody\u001b[0m\u001b[0;34m,\u001b[0m \u001b[0mcondition\u001b[0m\u001b[0;34m=\u001b[0m\u001b[0mcondition\u001b[0m\u001b[0;34m)\u001b[0m\u001b[0;34m\u001b[0m\u001b[0;34m\u001b[0m\u001b[0m\n\u001b[0m\u001b[1;32m    213\u001b[0m \u001b[0;34m\u001b[0m\u001b[0m\n\u001b[1;32m    214\u001b[0m         \u001b[0;32mif\u001b[0m \u001b[0;34m(\u001b[0m\u001b[0mout\u001b[0m\u001b[0;34m.\u001b[0m\u001b[0msurvived\u001b[0m\u001b[0;34m==\u001b[0m\u001b[0;32mFalse\u001b[0m\u001b[0;34m)\u001b[0m\u001b[0;34m:\u001b[0m\u001b[0;34m\u001b[0m\u001b[0;34m\u001b[0m\u001b[0m\n",
      "\u001b[0;32m/data/user/jlazar/TauRunner/taurunner/Casino.py\u001b[0m in \u001b[0;36mPropagate\u001b[0;34m(particle, track, body, condition)\u001b[0m\n\u001b[1;32m     50\u001b[0m                 \u001b[0;31m#make and propagate charged lepton\u001b[0m\u001b[0;34m\u001b[0m\u001b[0;34m\u001b[0m\u001b[0;34m\u001b[0m\u001b[0m\n\u001b[1;32m     51\u001b[0m                 \u001b[0mparticle\u001b[0m\u001b[0;34m.\u001b[0m\u001b[0mInteract\u001b[0m\u001b[0;34m(\u001b[0m\u001b[0;34m'CC'\u001b[0m\u001b[0;34m,\u001b[0m \u001b[0mbody\u001b[0m\u001b[0;34m,\u001b[0m \u001b[0mtrack\u001b[0m\u001b[0;34m,\u001b[0m \u001b[0mproton_fraction\u001b[0m\u001b[0;34m=\u001b[0m\u001b[0mbody\u001b[0m\u001b[0;34m.\u001b[0m\u001b[0mget_proton_fraction\u001b[0m\u001b[0;34m(\u001b[0m\u001b[0mtrack\u001b[0m\u001b[0;34m.\u001b[0m\u001b[0mx_to_r\u001b[0m\u001b[0;34m(\u001b[0m\u001b[0mparticle\u001b[0m\u001b[0;34m.\u001b[0m\u001b[0mposition\u001b[0m\u001b[0;34m)\u001b[0m\u001b[0;34m)\u001b[0m\u001b[0;34m)\u001b[0m\u001b[0;34m\u001b[0m\u001b[0;34m\u001b[0m\u001b[0m\n\u001b[0;32m---> 52\u001b[0;31m                 \u001b[0mparticle\u001b[0m\u001b[0;34m.\u001b[0m\u001b[0mPropagateChargedLepton\u001b[0m\u001b[0;34m(\u001b[0m\u001b[0mbody\u001b[0m\u001b[0;34m,\u001b[0m \u001b[0mtrack\u001b[0m\u001b[0;34m)\u001b[0m\u001b[0;34m\u001b[0m\u001b[0;34m\u001b[0m\u001b[0m\n\u001b[0m\u001b[1;32m     53\u001b[0m             \u001b[0;32melse\u001b[0m\u001b[0;34m:\u001b[0m\u001b[0;34m\u001b[0m\u001b[0;34m\u001b[0m\u001b[0m\n\u001b[1;32m     54\u001b[0m                 \u001b[0mparticle\u001b[0m\u001b[0;34m.\u001b[0m\u001b[0mInteract\u001b[0m\u001b[0;34m(\u001b[0m\u001b[0;34m'NC'\u001b[0m\u001b[0;34m,\u001b[0m \u001b[0mproton_fraction\u001b[0m\u001b[0;34m=\u001b[0m\u001b[0mbody\u001b[0m\u001b[0;34m.\u001b[0m\u001b[0mget_proton_fraction\u001b[0m\u001b[0;34m(\u001b[0m\u001b[0mtrack\u001b[0m\u001b[0;34m.\u001b[0m\u001b[0mx_to_r\u001b[0m\u001b[0;34m(\u001b[0m\u001b[0mparticle\u001b[0m\u001b[0;34m.\u001b[0m\u001b[0mposition\u001b[0m\u001b[0;34m)\u001b[0m\u001b[0;34m)\u001b[0m\u001b[0;34m)\u001b[0m\u001b[0;34m\u001b[0m\u001b[0;34m\u001b[0m\u001b[0m\n",
      "\u001b[0;32m/data/user/jlazar/TauRunner/taurunner/particle/particle.py\u001b[0m in \u001b[0;36mPropagateChargedLepton\u001b[0;34m(self, body, track)\u001b[0m\n\u001b[1;32m    218\u001b[0m         \u001b[0;31m#update particle info\u001b[0m\u001b[0;34m\u001b[0m\u001b[0;34m\u001b[0m\u001b[0;34m\u001b[0m\u001b[0m\n\u001b[1;32m    219\u001b[0m         \u001b[0mprint\u001b[0m\u001b[0;34m(\u001b[0m\u001b[0mtrack\u001b[0m\u001b[0;34m.\u001b[0m\u001b[0mx_to_r\u001b[0m\u001b[0;34m(\u001b[0m\u001b[0mself\u001b[0m\u001b[0;34m.\u001b[0m\u001b[0mposition\u001b[0m\u001b[0;34m)\u001b[0m\u001b[0;34m)\u001b[0m\u001b[0;34m\u001b[0m\u001b[0;34m\u001b[0m\u001b[0m\n\u001b[0;32m--> 220\u001b[0;31m         \u001b[0mfinal_vec\u001b[0m      \u001b[0;34m=\u001b[0m \u001b[0;34m(\u001b[0m\u001b[0msec\u001b[0m\u001b[0;34m.\u001b[0m\u001b[0mposition\u001b[0m\u001b[0;34m[\u001b[0m\u001b[0;34m-\u001b[0m\u001b[0;36m1\u001b[0m\u001b[0;34m]\u001b[0m \u001b[0;34m-\u001b[0m \u001b[0mpos_vec\u001b[0m\u001b[0;34m)\u001b[0m\u001b[0;34m\u001b[0m\u001b[0;34m\u001b[0m\u001b[0m\n\u001b[0m\u001b[1;32m    221\u001b[0m         \u001b[0mlep_length\u001b[0m     \u001b[0;34m=\u001b[0m \u001b[0mfinal_vec\u001b[0m\u001b[0;34m.\u001b[0m\u001b[0mmagnitude\u001b[0m\u001b[0;34m(\u001b[0m\u001b[0;34m)\u001b[0m \u001b[0;34m/\u001b[0m \u001b[0;36m1e5\u001b[0m\u001b[0;34m\u001b[0m\u001b[0;34m\u001b[0m\u001b[0m\n\u001b[1;32m    222\u001b[0m         \u001b[0mdecay_products\u001b[0m \u001b[0;34m=\u001b[0m \u001b[0;34m[\u001b[0m\u001b[0mp\u001b[0m \u001b[0;32mfor\u001b[0m \u001b[0mi\u001b[0m\u001b[0;34m,\u001b[0m\u001b[0mp\u001b[0m \u001b[0;32min\u001b[0m \u001b[0mzip\u001b[0m\u001b[0;34m(\u001b[0m\u001b[0mrange\u001b[0m\u001b[0;34m(\u001b[0m\u001b[0mmax\u001b[0m\u001b[0;34m(\u001b[0m\u001b[0mlen\u001b[0m\u001b[0;34m(\u001b[0m\u001b[0mparticles\u001b[0m\u001b[0;34m)\u001b[0m\u001b[0;34m-\u001b[0m\u001b[0;36m3\u001b[0m\u001b[0;34m,\u001b[0m\u001b[0;36m0\u001b[0m\u001b[0;34m)\u001b[0m\u001b[0;34m,\u001b[0m\u001b[0mlen\u001b[0m\u001b[0;34m(\u001b[0m\u001b[0mparticles\u001b[0m\u001b[0;34m)\u001b[0m\u001b[0;34m)\u001b[0m\u001b[0;34m,\u001b[0m \u001b[0mparticles\u001b[0m\u001b[0;34m[\u001b[0m\u001b[0;34m-\u001b[0m\u001b[0;36m3\u001b[0m\u001b[0;34m:\u001b[0m\u001b[0;34m]\u001b[0m\u001b[0;34m)\u001b[0m \u001b[0;32mif\u001b[0m \u001b[0mint\u001b[0m\u001b[0;34m(\u001b[0m\u001b[0mp\u001b[0m\u001b[0;34m.\u001b[0m\u001b[0mtype\u001b[0m\u001b[0;34m)\u001b[0m \u001b[0;34m<=\u001b[0m \u001b[0;36m1000000001\u001b[0m\u001b[0;34m]\u001b[0m\u001b[0;34m\u001b[0m\u001b[0;34m\u001b[0m\u001b[0m\n",
      "\u001b[0;31mIndexError\u001b[0m: list index out of range"
     ]
    }
   ],
   "source": [
    "import numpy as np\n",
    "\n",
    "from taurunner.body import Body\n",
    "from taurunner.main import run_MC\n",
    "from taurunner.cross_sections import CrossSections\n",
    "from taurunner.utils import make_propagator, make_initial_e, make_initial_thetas\n",
    "\n",
    "nevents  = 1000\n",
    "eini     = 1e7\n",
    "theta    = 0\n",
    "pid      = 16\n",
    "xs_model = \"CSMS\"\n",
    "\n",
    "# Make layered body with radius 1,000 km\n",
    "def middle_density(x):\n",
    "    return x**-2\n",
    "densities  = [16, middle_density, 1.78]\n",
    "boundaries = [0.25, 0.75, 1] # Right hand boundaries of the layers\n",
    "body = Body([(d, b) for d, b in zip(densities, boundaries)], 1e3)\n",
    "\n",
    "xs       = CrossSections(xs_model)\n",
    "energies = make_initial_e(nevents, eini)\n",
    "thetas   = make_initial_thetas(nevents, theta)\n",
    "\n",
    "tau_prop = make_propagator(pid, body)\n",
    "rand     = np.random.RandomState(seed=7)\n",
    "\n",
    "output = run_MC(energies, \n",
    "                thetas, \n",
    "                body, \n",
    "                xs, \n",
    "                tau_prop, \n",
    "                rand\n",
    ")"
   ]
  },
  {
   "cell_type": "code",
   "execution_count": null,
   "metadata": {},
   "outputs": [],
   "source": [
    "import matplotlib.pyplot as plt\n",
    "plt.style.use('../paper.mplstyle')\n",
    "\n",
    "bins  = np.logspace(12.5, 19, 26)\n",
    "zeros = output['Eout']==0.\n",
    "\n",
    "pid_names = {\n",
    "    11: 'r$e$', \n",
    "    12: r'$\\nu_{e}$', \n",
    "    13: r'$\\mu$', \n",
    "    14: r'$\\nu_{\\mu}$',\n",
    "    15: r'$\\tau$',\n",
    "    16: r'$\\nu_{\\tau}$'\n",
    "}\n",
    "\n",
    "\n",
    "for pid in reversed(range(12,17)):\n",
    "    particle_msk = np.logical_and(np.abs(output['PDG_Encoding'])==pid, ~zeros)\n",
    "    name = pid_names[pid]\n",
    "    plt.hist(output['Eout'][particle_msk], bins=bins, label=name,\n",
    "            lw=2., histtype='step')\n",
    "    \n",
    "plt.legend(frameon=False, loc=1)\n",
    "plt.loglog()\n",
    "plt.xlabel(r'$E$ (eV)')\n",
    "plt.ylabel('Number')\n",
    "plt.show()"
   ]
  },
  {
   "cell_type": "markdown",
   "metadata": {},
   "source": [
    "## Example 4: Running from the command line"
   ]
  },
  {
   "cell_type": "markdown",
   "metadata": {},
   "source": [
    "As is described more thoroughly in the `README`, `taurunner` can also be called from the command line, an example of which is shown inline below"
   ]
  },
  {
   "cell_type": "code",
   "execution_count": 25,
   "metadata": {},
   "outputs": [
    {
     "name": "stdout",
     "output_type": "stream",
     "text": [
      "╒═════════════╤═════════════╤═════════╤═══════╤═══════╤════════════════╕\r\n",
      "│        Eini │        Eout │   Theta │   nCC │   nNC │   PDG_Encoding │\r\n",
      "╞═════════════╪═════════════╪═════════╪═══════╪═══════╪════════════════╡\r\n",
      "│ 1e+18       │ 2.63247e+13 │       0 │     4 │     2 │             16 │\r\n",
      "├─────────────┼─────────────┼─────────┼───────┼───────┼────────────────┤\r\n",
      "│ 1e+18       │ 2.64058e+13 │       0 │     3 │     1 │             16 │\r\n",
      "├─────────────┼─────────────┼─────────┼───────┼───────┼────────────────┤\r\n",
      "│ 1e+18       │ 4.0619e+14  │       0 │     5 │     2 │             16 │\r\n",
      "├─────────────┼─────────────┼─────────┼───────┼───────┼────────────────┤\r\n",
      "│ 1e+18       │ 1.23462e+13 │       0 │     6 │     0 │             16 │\r\n",
      "├─────────────┼─────────────┼─────────┼───────┼───────┼────────────────┤\r\n",
      "│ 1e+18       │ 1.91583e+14 │       0 │     4 │     3 │             16 │\r\n",
      "├─────────────┼─────────────┼─────────┼───────┼───────┼────────────────┤\r\n",
      "│ 1e+18       │ 2.13525e+13 │       0 │     5 │     4 │             16 │\r\n",
      "├─────────────┼─────────────┼─────────┼───────┼───────┼────────────────┤\r\n",
      "│ 1e+18       │ 1.05069e+12 │       0 │     4 │     3 │             16 │\r\n",
      "├─────────────┼─────────────┼─────────┼───────┼───────┼────────────────┤\r\n",
      "│ 1e+18       │ 6.2092e+13  │       0 │     5 │     1 │             16 │\r\n",
      "├─────────────┼─────────────┼─────────┼───────┼───────┼────────────────┤\r\n",
      "│ 1e+18       │ 5.21024e+12 │       0 │     5 │     1 │             16 │\r\n",
      "├─────────────┼─────────────┼─────────┼───────┼───────┼────────────────┤\r\n",
      "│ 1e+18       │ 5.05551e+14 │       0 │     5 │     1 │             16 │\r\n",
      "├─────────────┼─────────────┼─────────┼───────┼───────┼────────────────┤\r\n",
      "│ 1e+18       │ 3.69595e+14 │       0 │     4 │     1 │             16 │\r\n",
      "├─────────────┼─────────────┼─────────┼───────┼───────┼────────────────┤\r\n",
      "│ 1e+18       │ 1.03907e+14 │       0 │     4 │     2 │             16 │\r\n",
      "├─────────────┼─────────────┼─────────┼───────┼───────┼────────────────┤\r\n",
      "│ 1e+18       │ 1.01386e+14 │       0 │     4 │     2 │             16 │\r\n",
      "├─────────────┼─────────────┼─────────┼───────┼───────┼────────────────┤\r\n",
      "│ 1e+18       │ 4.3047e+13  │       0 │     4 │     2 │             16 │\r\n",
      "├─────────────┼─────────────┼─────────┼───────┼───────┼────────────────┤\r\n",
      "│ 1e+18       │ 4.57512e+13 │       0 │     3 │     4 │             16 │\r\n",
      "├─────────────┼─────────────┼─────────┼───────┼───────┼────────────────┤\r\n",
      "│ 1e+18       │ 6.10885e+13 │       0 │     7 │     1 │             16 │\r\n",
      "├─────────────┼─────────────┼─────────┼───────┼───────┼────────────────┤\r\n",
      "│ 1e+18       │ 3.62768e+14 │       0 │     3 │     1 │             16 │\r\n",
      "├─────────────┼─────────────┼─────────┼───────┼───────┼────────────────┤\r\n",
      "│ 1e+18       │ 7.38027e+13 │       0 │     3 │     2 │             16 │\r\n",
      "├─────────────┼─────────────┼─────────┼───────┼───────┼────────────────┤\r\n",
      "│ 1e+18       │ 8.39628e+12 │       0 │     4 │     0 │             16 │\r\n",
      "├─────────────┼─────────────┼─────────┼───────┼───────┼────────────────┤\r\n",
      "│ 1e+18       │ 3.81146e+13 │       0 │     3 │     4 │             16 │\r\n",
      "├─────────────┼─────────────┼─────────┼───────┼───────┼────────────────┤\r\n",
      "│ 9.42265e+12 │ 9.42265e+12 │       0 │     0 │     0 │            -14 │\r\n",
      "├─────────────┼─────────────┼─────────┼───────┼───────┼────────────────┤\r\n",
      "│ 2.57642e+13 │ 0           │       0 │     1 │     0 │            -13 │\r\n",
      "├─────────────┼─────────────┼─────────┼───────┼───────┼────────────────┤\r\n",
      "│ 9.02476e+15 │ 0           │       0 │     1 │     0 │            -11 │\r\n",
      "├─────────────┼─────────────┼─────────┼───────┼───────┼────────────────┤\r\n",
      "│ 1.36254e+15 │ 0           │       0 │     1 │     1 │            -11 │\r\n",
      "├─────────────┼─────────────┼─────────┼───────┼───────┼────────────────┤\r\n",
      "│ 5.95644e+12 │ 0           │       0 │     1 │     0 │            -11 │\r\n",
      "├─────────────┼─────────────┼─────────┼───────┼───────┼────────────────┤\r\n",
      "│ 1.20906e+14 │ 0           │       0 │     1 │     0 │            -11 │\r\n",
      "├─────────────┼─────────────┼─────────┼───────┼───────┼────────────────┤\r\n",
      "│ 2.74079e+14 │ 0           │       0 │     1 │     0 │            -11 │\r\n",
      "├─────────────┼─────────────┼─────────┼───────┼───────┼────────────────┤\r\n",
      "│ 3.66901e+16 │ 0           │       0 │     1 │     0 │            -13 │\r\n",
      "├─────────────┼─────────────┼─────────┼───────┼───────┼────────────────┤\r\n",
      "│ 2.9405e+14  │ 0           │       0 │     1 │     1 │            -13 │\r\n",
      "├─────────────┼─────────────┼─────────┼───────┼───────┼────────────────┤\r\n",
      "│ 2.65733e+12 │ 2.65733e+12 │       0 │     0 │     0 │            -12 │\r\n",
      "├─────────────┼─────────────┼─────────┼───────┼───────┼────────────────┤\r\n",
      "│ 1.06885e+13 │ 1.06885e+13 │       0 │     0 │     0 │            -14 │\r\n",
      "├─────────────┼─────────────┼─────────┼───────┼───────┼────────────────┤\r\n",
      "│ 4.9003e+13  │ 4.9003e+13  │       0 │     0 │     0 │            -12 │\r\n",
      "├─────────────┼─────────────┼─────────┼───────┼───────┼────────────────┤\r\n",
      "│ 4.8847e+15  │ 0           │       0 │     1 │     0 │            -11 │\r\n",
      "├─────────────┼─────────────┼─────────┼───────┼───────┼────────────────┤\r\n",
      "│ 3.35866e+12 │ 3.35866e+12 │       0 │     0 │     0 │            -14 │\r\n",
      "├─────────────┼─────────────┼─────────┼───────┼───────┼────────────────┤\r\n",
      "│ 1.47545e+16 │ 0           │       0 │     1 │     0 │            -11 │\r\n",
      "├─────────────┼─────────────┼─────────┼───────┼───────┼────────────────┤\r\n",
      "│ 1.57141e+14 │ 0           │       0 │     1 │     0 │            -11 │\r\n",
      "├─────────────┼─────────────┼─────────┼───────┼───────┼────────────────┤\r\n",
      "│ 7.06395e+16 │ 0           │       0 │     1 │     0 │            -11 │\r\n",
      "├─────────────┼─────────────┼─────────┼───────┼───────┼────────────────┤\r\n",
      "│ 9.70269e+13 │ 0           │       0 │     1 │     0 │            -11 │\r\n",
      "├─────────────┼─────────────┼─────────┼───────┼───────┼────────────────┤\r\n",
      "│ 4.46134e+11 │ 4.46134e+11 │       0 │     0 │     0 │            -12 │\r\n",
      "├─────────────┼─────────────┼─────────┼───────┼───────┼────────────────┤\r\n",
      "│ 2.99995e+14 │ 0           │       0 │     1 │     0 │            -11 │\r\n",
      "├─────────────┼─────────────┼─────────┼───────┼───────┼────────────────┤\r\n",
      "│ 1.74733e+14 │ 0           │       0 │     1 │     0 │            -11 │\r\n",
      "├─────────────┼─────────────┼─────────┼───────┼───────┼────────────────┤\r\n",
      "│ 1.05658e+08 │ 0           │       0 │     1 │     0 │            -13 │\r\n",
      "├─────────────┼─────────────┼─────────┼───────┼───────┼────────────────┤\r\n",
      "│ 6.88035e+14 │ 0           │       0 │     1 │     0 │            -13 │\r\n",
      "├─────────────┼─────────────┼─────────┼───────┼───────┼────────────────┤\r\n",
      "│ 5.22599e+14 │ 0           │       0 │     1 │     0 │            -13 │\r\n",
      "├─────────────┼─────────────┼─────────┼───────┼───────┼────────────────┤\r\n",
      "│ 3.47271e+15 │ 0           │       0 │     1 │     0 │            -11 │\r\n",
      "├─────────────┼─────────────┼─────────┼───────┼───────┼────────────────┤\r\n",
      "│ 3.23428e+13 │ 3.23428e+13 │       0 │     0 │     0 │            -14 │\r\n",
      "├─────────────┼─────────────┼─────────┼───────┼───────┼────────────────┤\r\n",
      "│ 1.94242e+15 │ 0           │       0 │     1 │     0 │            -11 │\r\n",
      "╘═════════════╧═════════════╧═════════╧═══════╧═══════╧════════════════╛\r\n"
     ]
    }
   ],
   "source": [
    "!python ../taurunner/main.py -n 20 -t 0.0 -e 1e9"
   ]
  },
  {
   "cell_type": "code",
   "execution_count": null,
   "metadata": {},
   "outputs": [],
   "source": []
  }
 ],
 "metadata": {
  "kernelspec": {
   "display_name": "Python 3",
   "language": "python",
   "name": "python3"
  }
 },
 "nbformat": 4,
 "nbformat_minor": 2
}
